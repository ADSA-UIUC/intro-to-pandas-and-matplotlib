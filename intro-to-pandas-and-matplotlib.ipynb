{
 "cells": [
  {
   "cell_type": "markdown",
   "metadata": {},
   "source": [
    "![ADSA Logo](http://i.imgur.com/BV0CdHZ.png?2 \"ADSA Logo\")"
   ]
  },
  {
   "cell_type": "markdown",
   "metadata": {},
   "source": [
    "# ADSA Workshop 4 - Introduction to Pandas and Matplotlib\n",
    "Workshop content adapted from:\n",
    "* [Data Science from Scratch - First Principles with Python](http://www.amazon.com/Data-Science-Scratch-Principles-Python/dp/149190142X)\n",
    "* [Greg Reda's Intro to pandas data structures](http://www.gregreda.com/2013/10/26/intro-to-pandas-data-structures/)\n",
    "* [Dr. Robert Brunner INFO 490](https://github.com/UI-DataScience/info490-fa16)\n",
    "\n",
    "\n",
    "This workshop will dive into data processing and visualization with Numpy, Pandas, and Matplotlib.\n",
    "\n",
    "***"
   ]
  },
  {
   "cell_type": "markdown",
   "metadata": {},
   "source": [
    "# Pandas"
   ]
  },
  {
   "cell_type": "markdown",
   "metadata": {},
   "source": [
    "As stated on the official [pandas site](http://pandas.pydata.org/) \"pandas is an open source, BSD-licensed library providing high-performance, easy-to-use data structures and data analysis tools for the Python programming language.\" Pandas is built on top of NumPy, and provides two key data structures for processing data: Series and DataFrames."
   ]
  },
  {
   "cell_type": "markdown",
   "metadata": {},
   "source": [
    "To begin, we first need to import pandas and numpy:"
   ]
  },
  {
   "cell_type": "code",
   "execution_count": null,
   "metadata": {
    "collapsed": false
   },
   "outputs": [],
   "source": [
    "import pandas as pd\n",
    "import numpy as np\n",
    "\n",
    "'''\n",
    "For easiest visual display later on.\n",
    "'''\n",
    "pd.set_option('max_columns', 50)\n",
    "\n",
    "'''\n",
    "This line is Jupyter Notebook specific and allows for graphs\n",
    "to be displayed in the notebook.\n",
    "''' \n",
    "%matplotlib inline"
   ]
  },
  {
   "cell_type": "markdown",
   "metadata": {},
   "source": [
    "## Series"
   ]
  },
  {
   "cell_type": "markdown",
   "metadata": {},
   "source": [
    "A Series is a one-dimensional object containing a series of items, and is similar to an array or list in Python. A Numpy series assigns a labeled index to every entry in the series, and uses the numbers 0 through n (length of the series - 1) by default."
   ]
  },
  {
   "cell_type": "markdown",
   "metadata": {},
   "source": [
    "### Creating a Series"
   ]
  },
  {
   "cell_type": "markdown",
   "metadata": {},
   "source": [
    "To make a series, we can pass in a Python list to the pd.Series() function. Note the convenient printing format and indices given when we print the series."
   ]
  },
  {
   "cell_type": "code",
   "execution_count": null,
   "metadata": {
    "collapsed": false
   },
   "outputs": [],
   "source": [
    "s = pd.Series(['ADSA', 5, True, -3.14 ])\n",
    "print s"
   ]
  },
  {
   "cell_type": "markdown",
   "metadata": {},
   "source": [
    "If you want, you can specify index labels to be used rather than the default 0 to n, by passing in an index list. (Note that the index list must be the same length as the series)."
   ]
  },
  {
   "cell_type": "code",
   "execution_count": null,
   "metadata": {
    "collapsed": false
   },
   "outputs": [],
   "source": [
    "s = pd.Series(['ADSA', 5, True, -3.76 ], index=['A', 'B', 'C', 'D'])\n",
    "print s"
   ]
  },
  {
   "cell_type": "markdown",
   "metadata": {},
   "source": [
    "We can also take an existing Python dictionary and convert it to a series by passing it into the pd.Series() function."
   ]
  },
  {
   "cell_type": "code",
   "execution_count": null,
   "metadata": {
    "collapsed": false
   },
   "outputs": [],
   "source": [
    "# Let's assume we have a dictionary of cities and weather data\n",
    "d = {'Chicago': 75,\n",
    "     'Boston': 65,\n",
    "     'New York': 70,\n",
    "     'San Francisco': 80,\n",
    "     'Los Angeles': 82,\n",
    "     'Austin': None\n",
    "}\n",
    "\n",
    "weather = pd.Series(d)\n",
    "print weather"
   ]
  },
  {
   "cell_type": "markdown",
   "metadata": {},
   "source": [
    "### Querying a Series"
   ]
  },
  {
   "cell_type": "markdown",
   "metadata": {},
   "source": [
    "We can then access data for specific indices by passing either a single index, or a list of indices in brackets."
   ]
  },
  {
   "cell_type": "code",
   "execution_count": null,
   "metadata": {
    "collapsed": false
   },
   "outputs": [],
   "source": [
    "print weather['Chicago']\n",
    "\n",
    "print '\\n'\n",
    "\n",
    "print weather[['Chicago', 'Austin']]"
   ]
  },
  {
   "cell_type": "markdown",
   "metadata": {},
   "source": [
    "We can use boolean statements involving our series in order to check if something is in a series or generate a series of true and false values for those entries which satisfy the statement."
   ]
  },
  {
   "cell_type": "code",
   "execution_count": null,
   "metadata": {
    "collapsed": false
   },
   "outputs": [],
   "source": [
    "print 'Chicago' in weather\n",
    "\n",
    "print '\\n'\n",
    "\n",
    "weather_less_than_80 = weather < 80\n",
    "print weather_less_than_80"
   ]
  },
  {
   "cell_type": "markdown",
   "metadata": {},
   "source": [
    "By passing in these boolean statements, we can query the series for entries which satisfy the boolean."
   ]
  },
  {
   "cell_type": "code",
   "execution_count": null,
   "metadata": {
    "collapsed": false,
    "scrolled": false
   },
   "outputs": [],
   "source": [
    "print weather[weather < 80]\n",
    "\n",
    "print '\\n'\n",
    "\n",
    "print weather[weather <= 70]\n",
    "\n",
    "print '\\n'\n",
    "\n",
    "print weather[weather < 65]\n",
    "\n",
    "print '\\n'"
   ]
  },
  {
   "cell_type": "markdown",
   "metadata": {},
   "source": [
    "### Combining Series"
   ]
  },
  {
   "cell_type": "markdown",
   "metadata": {},
   "source": [
    "We can also perform scalar multiplication and division, and numpy operations on series."
   ]
  },
  {
   "cell_type": "code",
   "execution_count": null,
   "metadata": {
    "collapsed": false
   },
   "outputs": [],
   "source": [
    "print weather / 3\n",
    "\n",
    "print '\\n'\n",
    "\n",
    "print weather * 2\n",
    "\n",
    "print '\\n'\n",
    "\n",
    "print np.square(weather)"
   ]
  },
  {
   "cell_type": "markdown",
   "metadata": {},
   "source": [
    "We can also add two series together. If the same index exists in both series, then their values will be added, otherwise a Null/NaN (Not a Number) value will be assigned to the resulting series."
   ]
  },
  {
   "cell_type": "code",
   "execution_count": null,
   "metadata": {
    "collapsed": false
   },
   "outputs": [],
   "source": [
    "# Note that the two dictionaries share the key 'New York' but not Chicago or Boston\n",
    "d1 = {'Chicago': 65, \n",
    "      'New York': 55\n",
    "     }\n",
    "\n",
    "d2 = {'New York': 10,\n",
    "      'Boston': 60\n",
    "     }\n",
    "\n",
    "s1 = pd.Series(d1)\n",
    "s2 = pd.Series(d2)\n",
    "\n",
    "# The value for New York will be added, but the values for Chicago and Boston are indeterminate and marked as NaN\n",
    "s3 = s1 + s2\n",
    "print s3"
   ]
  },
  {
   "cell_type": "markdown",
   "metadata": {},
   "source": [
    "Finally, to tell if values in a series or Null (NaN) or not, we can use the functions .isnull() and .notnull() respectively. Note that we can use the same boolean logic as before to either display True and False values for every index, or query for indices which are Null."
   ]
  },
  {
   "cell_type": "code",
   "execution_count": null,
   "metadata": {
    "collapsed": false
   },
   "outputs": [],
   "source": [
    "print s3.isnull()\n",
    "\n",
    "print '\\n'\n",
    "\n",
    "print s3[s3.isnull()]"
   ]
  },
  {
   "cell_type": "markdown",
   "metadata": {},
   "source": [
    "## DataFrames"
   ]
  },
  {
   "cell_type": "markdown",
   "metadata": {},
   "source": [
    "A DataFrame is a table-based Pandas data structure made up of rows and columns, just like a spreadsheet. Another way to think of DataFrames are as a group of Series in which each index is a column in the table."
   ]
  },
  {
   "cell_type": "markdown",
   "metadata": {},
   "source": [
    "### Creating a DataFrame from a Dictionary"
   ]
  },
  {
   "cell_type": "markdown",
   "metadata": {},
   "source": [
    "In order to create a DataFrame from Python structures, we can create a dictionary of lists, in which each dictionary key is a column of the table, and each entry in the key's list is the value for that column in each row. \n",
    "\n",
    "We then call the pd.DataFrame(data, columns) function where data = the Python dictionary to be passed in, and columns = the ordering in which the columns appear in the table (If no order is specified, column names will be listed alphabetically).\n",
    "\n"
   ]
  },
  {
   "cell_type": "code",
   "execution_count": null,
   "metadata": {
    "collapsed": false
   },
   "outputs": [],
   "source": [
    "d = {'student': ['Aaron', 'Josh', 'Tom', 'Justin', 'Andrew'],\n",
    "     'credits': ['15', '14', '17', '18', '14'],\n",
    "     'gpa': [3.52, 3.67, 3.43, 3.85, 3.32]\n",
    "}\n",
    "\n",
    "students = pd.DataFrame(d, columns=['student', 'credits', 'gpa'])\n",
    "students"
   ]
  },
  {
   "cell_type": "markdown",
   "metadata": {},
   "source": [
    "### Creating a DataFrame from a CSV"
   ]
  },
  {
   "cell_type": "markdown",
   "metadata": {},
   "source": [
    "Often times, the dataset we have will be in CSV (Comma Separated Value) form. CSV files exist as a series of values separated by commas. For this tutorial, we have pulled a sample CSV file from the [Kaggle Titanic Project](https://www.kaggle.com/c/titanic/data?train.csv) containing data on the passengers of the Titanic.\n",
    "\n",
    "To see what the Titanic data looks like as a CSV, click [here](https://raw.githubusercontent.com/pcsanwald/kaggle-titanic/master/train.csv). "
   ]
  },
  {
   "cell_type": "markdown",
   "metadata": {},
   "source": [
    "We can easily take data from a CSV file and import it into a DataFrame by using the pd.read_csv() function. By passing in header=0, we tell Pandas that the header information is contained on row 0.\n",
    "\n",
    "We can then read the first 5 entries by using the .head() function."
   ]
  },
  {
   "cell_type": "code",
   "execution_count": null,
   "metadata": {
    "collapsed": false
   },
   "outputs": [],
   "source": [
    "df = pd.read_csv('train.csv', header=0)\n",
    "\n",
    "# Note that the csv data is now a Pandas DataFrame\n",
    "print type(df)\n",
    "\n",
    "# Returns first 5 entries\n",
    "df.head()"
   ]
  },
  {
   "cell_type": "markdown",
   "metadata": {},
   "source": [
    "To view the last n entries, we can use the .tail(n) function."
   ]
  },
  {
   "cell_type": "code",
   "execution_count": null,
   "metadata": {
    "collapsed": false
   },
   "outputs": [],
   "source": [
    "df.tail(3)"
   ]
  },
  {
   "cell_type": "markdown",
   "metadata": {},
   "source": [
    "### Analyzing the Data"
   ]
  },
  {
   "cell_type": "markdown",
   "metadata": {},
   "source": [
    "By calling the .info() function, we can see information regarding the column names, total number of entries, and types for each column."
   ]
  },
  {
   "cell_type": "code",
   "execution_count": null,
   "metadata": {
    "collapsed": false
   },
   "outputs": [],
   "source": [
    "df.info()"
   ]
  },
  {
   "cell_type": "markdown",
   "metadata": {},
   "source": [
    "From this data, we can see that we have 891 entries (rows) in our DataFrame. We can also infer that since Age, Cabin, and Embarked do not have 891 entries, there are some rows for which that information is Null."
   ]
  },
  {
   "cell_type": "markdown",
   "metadata": {},
   "source": [
    "### Summarizing the Data"
   ]
  },
  {
   "cell_type": "markdown",
   "metadata": {},
   "source": [
    "The .describe() function can be incredibly useful when analzing a data set. By calling this function, Pandas will tell us the count, mean, standard deviation, interquartile range, maximum, and minumum values for each column in our data set which has a numerical type.\n",
    "\n",
    "We must however, remember that there are Null values in the Age, Cabin, and Embarked columns, meaning you should take that into considering when discussing their described values."
   ]
  },
  {
   "cell_type": "code",
   "execution_count": null,
   "metadata": {
    "collapsed": false
   },
   "outputs": [],
   "source": [
    "df.describe()"
   ]
  },
  {
   "cell_type": "markdown",
   "metadata": {},
   "source": [
    "### Data Munging (Cleaning)"
   ]
  },
  {
   "cell_type": "markdown",
   "metadata": {},
   "source": [
    "Pandas provides many tools to manipulate, filter, combine, and transform your data. We will now cover the syntax and some of the things you can do."
   ]
  },
  {
   "cell_type": "markdown",
   "metadata": {},
   "source": [
    "### Filtering Data"
   ]
  },
  {
   "cell_type": "markdown",
   "metadata": {},
   "source": [
    "To grab the first 10 rows from the age column, we can enter the key and indices in square brackets [ ]. Alternatively, you can acess a column by typing its name right after the DataFrame name like df.Survived[0:10]."
   ]
  },
  {
   "cell_type": "code",
   "execution_count": null,
   "metadata": {
    "collapsed": false
   },
   "outputs": [],
   "source": [
    "# Without indices, we can grab the entire column\n",
    "# df.Age or df['Age']\n",
    "\n",
    "# Or we can pass in indices to clean up the data\n",
    "print df['Age'][0:10]\n",
    "print ''\n",
    "# This is equivalent\n",
    "print df.Age[0:10]"
   ]
  },
  {
   "cell_type": "markdown",
   "metadata": {},
   "source": [
    "If we look at the type of each column, we can see that DataFrames are actually made up of Pandas Series."
   ]
  },
  {
   "cell_type": "code",
   "execution_count": null,
   "metadata": {
    "collapsed": false
   },
   "outputs": [],
   "source": [
    "type(df.Age)"
   ]
  },
  {
   "cell_type": "markdown",
   "metadata": {},
   "source": [
    "By grabbing an individual column as a series, we can calculate the mean, median, or a number of statistical values by using methods of the same name."
   ]
  },
  {
   "cell_type": "code",
   "execution_count": null,
   "metadata": {
    "collapsed": false
   },
   "outputs": [],
   "source": [
    "print 'MEAN: ' + str(df.Age.mean())\n",
    "print 'MEDIAN: ' + str(df.Age.median())\n",
    "print 'MAX: ' + str(df.Age.max())\n",
    "print 'MIN: ' + str(df.Age.min())\n",
    "print 'SUM: ' + str(df.Age.sum())"
   ]
  },
  {
   "cell_type": "markdown",
   "metadata": {},
   "source": [
    "We can also grab a number of columns at once by passing in a list of columns."
   ]
  },
  {
   "cell_type": "code",
   "execution_count": null,
   "metadata": {
    "collapsed": false
   },
   "outputs": [],
   "source": [
    "df[['Sex', 'Pclass', 'Age']]"
   ]
  },
  {
   "cell_type": "markdown",
   "metadata": {},
   "source": [
    "### Querying DataFrames"
   ]
  },
  {
   "cell_type": "markdown",
   "metadata": {},
   "source": [
    "Just as we discussed above in the Series section, we can pass in boolean arguments to query for data which satisfies a description.\n",
    "\n",
    "For instance, let's say we want to look at every passenger of the Titanic who was over the age of 70, we could do this:"
   ]
  },
  {
   "cell_type": "code",
   "execution_count": null,
   "metadata": {
    "collapsed": false
   },
   "outputs": [],
   "source": [
    "df[df.Age > 70]"
   ]
  },
  {
   "cell_type": "markdown",
   "metadata": {},
   "source": [
    "DataFrames allow us to run multiple queries on our data sets as well by either using parenthesis and an & sign, or by passing in two expressions in square brackets.\n",
    "\n",
    "For example, we can pull all female passengers over the age of 60 by running this:"
   ]
  },
  {
   "cell_type": "code",
   "execution_count": null,
   "metadata": {
    "collapsed": false
   },
   "outputs": [],
   "source": [
    "df[(df.Sex == 'female') & (df.Age > 60)]\n",
    "# or equivalently\n",
    "# df[df.Sex == 'female'][df.Age > 60]"
   ]
  },
  {
   "cell_type": "markdown",
   "metadata": {},
   "source": [
    "And we can further specify which additional column names we which to view by again passing a list of column names."
   ]
  },
  {
   "cell_type": "code",
   "execution_count": null,
   "metadata": {
    "collapsed": false
   },
   "outputs": [],
   "source": [
    "df[(df.Sex == 'female') & (df.Age > 60)] [['Age','Sex','Ticket','Fare']]"
   ]
  },
  {
   "cell_type": "markdown",
   "metadata": {},
   "source": [
    "If we were curious in investigating all the Null values for Age we discovered earlier, we can easily grab them. "
   ]
  },
  {
   "cell_type": "code",
   "execution_count": null,
   "metadata": {
    "collapsed": false
   },
   "outputs": [],
   "source": [
    "df[df.Age.isnull()][['Age','Sex','Pclass']]"
   ]
  },
  {
   "cell_type": "markdown",
   "metadata": {},
   "source": [
    "By combining traditional Python functionality with Pandas, we can start to perform some interesting, useful queries. \n",
    "\n",
    "For instance, let's say we want to determine how many females there were in each Pclass on the Titanic. Since there are 3 classes in the data, Pclass = 1, 2, and 3, we can run a for loop on range(1,4), and grab the length (number of entries) for the females in each class. This could be performed very quickly using Pandas and Python, and demonstrates some of the power of the framework:"
   ]
  },
  {
   "cell_type": "code",
   "execution_count": null,
   "metadata": {
    "collapsed": false
   },
   "outputs": [],
   "source": [
    "for i in range(1,4):\n",
    "    print 'Pclass: ' + str(i) + ' Females: ' + str(len(df[df.Sex == 'female'][df.Pclass == i]))"
   ]
  },
  {
   "cell_type": "markdown",
   "metadata": {},
   "source": [
    "***"
   ]
  },
  {
   "cell_type": "markdown",
   "metadata": {
    "collapsed": true
   },
   "source": [
    "# Data Visualization"
   ]
  },
  {
   "cell_type": "markdown",
   "metadata": {},
   "source": [
    "\"A fundamental part of the data scientist’s toolkit is data visualization. Although it is\n",
    "very easy to create visualizations, it’s much harder to produce good ones.\n",
    "There are two primary uses for data visualization:\n",
    "* To explore data\n",
    "* To communicate data\"\n",
    "\n",
    "-Joel Grus, Data Science from Scratch"
   ]
  },
  {
   "cell_type": "code",
   "execution_count": null,
   "metadata": {
    "collapsed": false
   },
   "outputs": [],
   "source": [
    "from IPython.display import YouTubeVideo\n",
    "YouTubeVideo('5Zg-C8AAIGg', start=18) # Yes, it can also embed youtube videos."
   ]
  },
  {
   "cell_type": "markdown",
   "metadata": {},
   "source": [
    "There are many tools that we can use to visualize data, however one of the most widely used tools is the [matplotlib](http://matplotlib.org/) library. While other libraries such as [d3.js](https://d3js.org/) are more commonly used for web visualizations, the matplotlib.pyplot module does an excellent job at quickly producing bar charts, line charts, and scatterplots in Python.\n",
    "\n",
    "To begin, we will first import the pyplot module from matplotlib."
   ]
  },
  {
   "cell_type": "code",
   "execution_count": 1,
   "metadata": {
    "collapsed": false,
    "scrolled": true
   },
   "outputs": [],
   "source": [
    "%matplotlib inline\n",
    "\n",
    "import matplotlib\n",
    "import matplotlib.pyplot as plt\n"
   ]
  },
  {
   "cell_type": "markdown",
   "metadata": {},
   "source": [
    "## Bar Charts"
   ]
  },
  {
   "cell_type": "markdown",
   "metadata": {},
   "source": [
    "A bar chart can be a very helpful, simple visualization when you need to illustrate quantities of a discrete set of items. With matplotlib, we can take two lists, labels and heights, and easily create a bar chart.\n",
    "\n",
    "We can use the plt.bar() method to create bargraphs. This function takes in a list of xcoordinates to start each bar, and a list of corresponding heights for each bar."
   ]
  },
  {
   "cell_type": "markdown",
   "metadata": {},
   "source": [
    "The following is an example of how we could create a simple bargraph to visualize the number of academy awards won by movies."
   ]
  },
  {
   "cell_type": "code",
   "execution_count": 2,
   "metadata": {
    "collapsed": false
   },
   "outputs": [
    {
     "name": "stdout",
     "output_type": "stream",
     "text": [
      "[0.1, 1.1, 2.1, 3.1, 4.1]\n"
     ]
    },
    {
     "data": {
      "image/png": "[encoded data removed]",
      "text/plain": [
       "<matplotlib.figure.Figure at 0x7f31f34c4cd0>"
      ]
     },
     "metadata": {},
     "output_type": "display_data"
    }
   ],
   "source": [
    "# These are movies we wish to plot, as well as the number of awards won\n",
    "movies = [\"Annie Hall\", \"Ben-Hur\", \"Casablanca\", \"Gandhi\", \"West Side Story\"]\n",
    "num_oscars = [5, 11, 3, 8, 10]\n",
    "\n",
    "'''\n",
    "Bars start from xcoordinate 0 by default, so to make the graph look nicer, we can add\n",
    "0.1 to each bar xcoordinate to shift them a bit to the right.\n",
    "\n",
    "One way to do this is to use a list comprehension along with a range from 0 to the length\n",
    "of movies, and yield a list of each index + 0.1.\n",
    "'''\n",
    "xcoords = [i+0.1  for i in range(0, len(movies))]\n",
    "print xcoords\n",
    "\n",
    "# plot bars with left x-coordinates [xcoords], heights [num_oscars]\n",
    "plt.bar(xcoords, num_oscars)\n",
    "\n",
    "# We can add titles and x/y labels by using the following plt methods\n",
    "plt.xlabel('Movies')\n",
    "plt.ylabel(\"# of Academy Awards\")\n",
    "plt.title(\"My Favorite Movies\")\n",
    "\n",
    "# To add a label for each bar, we can use .xticks with a list of xcoordinates and strings\n",
    "# We move over the xcoordinates by 0.5 this time just to properly center them\n",
    "plt.xticks([i + 0.5 for i in range(0, len(movies))], movies)\n",
    "\n",
    "# Finally, we can display the graph with plt.show()\n",
    "plt.show()"
   ]
  },
  {
   "cell_type": "markdown",
   "metadata": {},
   "source": [
    "Bargraphs are also great for creating histograms, graphs in which the y-axis illustrates frequency of the x-axis' values. \n",
    "\n",
    "Below is an example of how to create a histogram for exam distributions. In this example, we use a few other parameters in our plot. When we call plt.bar(), we pass in a bar width parameter, and we also call plt.axis() to change the range of x and y-coordinates shown."
   ]
  },
  {
   "cell_type": "code",
   "execution_count": 3,
   "metadata": {
    "collapsed": false
   },
   "outputs": [
    {
     "name": "stdout",
     "output_type": "stream",
     "text": [
      "[0, 100, 70, 80, 90, 60]\n",
      "[2, 1, 3, 4, 2, 1]\n"
     ]
    },
    {
     "data": {
      "image/png": "[encoded data removed]",
      "text/plain": [
       "<matplotlib.figure.Figure at 0x7f31f34d2310>"
      ]
     },
     "metadata": {},
     "output_type": "display_data"
    }
   ],
   "source": [
    "# Dictionary like structure which countains a count of the frequency of something\n",
    "from collections import Counter\n",
    "\n",
    "grades = [83,95,91,87,70,0,85,82,100,67,73,77,0]\n",
    "\n",
    "# The lambda keyword creates quick functions\n",
    "# dec is a function which takes input grade and rounds it to the lowest nearest multiple of 10 \n",
    "dec = lambda grade: (grade // 10) * 10\n",
    "\n",
    "# This creates a dictionary of the frequency count of grades in each percentage range by 10's\n",
    "histogram = Counter(dec(grade) for grade in grades)\n",
    "print histogram.keys() # Retrieves all the keys\n",
    "print histogram.values() # Retrieves frequencies\n",
    "\n",
    "# We now create our graph. Note that we are scooting over the xcoords by 4 to make it look nice\n",
    "plt.bar([x - 4 for x in histogram.keys()],\n",
    "       histogram.values(),\n",
    "       8) # We are passing in a value for the optional bar width parameter\n",
    "\n",
    "# Extends the x-axis to show values from -5-105, and y to show 0-5\n",
    "plt.axis([-5, 105, 0, 5])\n",
    "\n",
    "# Labels each x-axis bar by 10's\n",
    "plt.xticks([10 * i for i in range(11)])\n",
    "\n",
    "# The rest of our labels\n",
    "plt.xlabel(\"Decile\")\n",
    "plt.ylabel(\"# of Students\")\n",
    "plt.title(\"Distribution of Exam Grades\")\n",
    "plt.show()"
   ]
  },
  {
   "cell_type": "markdown",
   "metadata": {},
   "source": [
    "### Line Charts"
   ]
  },
  {
   "cell_type": "markdown",
   "metadata": {},
   "source": [
    "Line charts can be very useful in illustrating trends, and be very useful for visualizing data. We can use the plt.plot() method in order to create line charts with Matplotlib. \n",
    "\n",
    "Below is an example of a fake stock market chart comparing two companies:"
   ]
  },
  {
   "cell_type": "code",
   "execution_count": 4,
   "metadata": {
    "collapsed": false
   },
   "outputs": [
    {
     "data": {
      "image/png": "[encoded data removed]",
      "text/plain": [
       "<matplotlib.figure.Figure at 0x7f31f12f7550>"
      ]
     },
     "metadata": {},
     "output_type": "display_data"
    }
   ],
   "source": [
    "# Fake company stock data\n",
    "company1 = [53.0, 52.2, 57.3, 60.0, 62.2, 54.5, 61.1]\n",
    "company2 = [42.0, 43.2, 47.4, 49.0, 55.0, 57.2, 60.0]\n",
    "years = [2010, 2011, 2012, 2013, 2014, 2015, 2016]\n",
    "\n",
    "# The xcoords are the same for both, so we can just grab them for company 1\n",
    "xcoords = [i for i in range(0, len(company1))]\n",
    "\n",
    "# plt.plot() takes in the xcoodinates, ycoordinates, and an optional color/label name\n",
    "plt.plot(xcoords, company1, 'g-', label='Company 1')\n",
    "plt.plot(xcoords, company2, 'r-', label='Company 2')\n",
    "\n",
    "plt.legend(loc=2) # This enables and determines the location of the graph's legend\n",
    "plt.xlabel(\"Stock Trends\")\n",
    "plt.ylabel('Price ($)')\n",
    "plt.title(\"Stock Trends\")\n",
    "\n",
    "plt.xticks([i for i in range(0, len(years))], years) # Adds the years as labels\n",
    "\n",
    "plt.show()"
   ]
  },
  {
   "cell_type": "markdown",
   "metadata": {},
   "source": [
    "### Scatter Plots"
   ]
  },
  {
   "cell_type": "markdown",
   "metadata": {},
   "source": [
    "Finally, scatter plots can be useful for illustrating the relationship between two variables. We can use the plt.scatter() function to create scatter plots in matplotlib.\n",
    "\n",
    "Below is an example of a scatter plot showing the relatinoship between number of online friends vs the number of minutes spent on a social media website."
   ]
  },
  {
   "cell_type": "code",
   "execution_count": 5,
   "metadata": {
    "collapsed": false
   },
   "outputs": [
    {
     "data": {
      "image/png": "[encoded data removed]",
      "text/plain": [
       "<matplotlib.figure.Figure at 0x7f31f110f450>"
      ]
     },
     "metadata": {},
     "output_type": "display_data"
    }
   ],
   "source": [
    "friends = [ 70, 65, 72, 63, 71, 64, 60, 64, 67]\n",
    "minutes = [175, 170, 205, 120, 220, 130, 105, 145, 190]\n",
    "labels = ['a', 'b', 'c', 'd', 'e', 'f', 'g', 'h', 'i'] # A list of arbitrary labels for the scatter points\n",
    "\n",
    "# Creates scatter plot\n",
    "plt.scatter(friends, minutes)\n",
    "\n",
    "# label each point. Zipping creates a list of tuples that looks like [('a', 70, 175), ('b', 65, 170)...] etc.\n",
    "for label, friend_count, minute_count in zip(labels, friends, minutes):\n",
    "    plt.annotate(label,\n",
    "    xy=(friend_count, minute_count), # put the label with its point\n",
    "    xytext=(5, -5), # offsets the label by +5x and -5y\n",
    "    textcoords='offset points') # tells matplotlib that the xytext should be offset by that amount\n",
    "    \n",
    "plt.title(\"Daily Minutes vs. Number of Friends\")\n",
    "plt.xlabel(\"# of friends\")\n",
    "plt.ylabel(\"daily minutes spent on the site\")\n",
    "plt.show()"
   ]
  },
  {
   "cell_type": "code",
   "execution_count": null,
   "metadata": {
    "collapsed": false
   },
   "outputs": [],
   "source": [
    "test_1_grades = [ 99, 90, 85, 97, 80]\n",
    "test_2_grades = [100, 85, 60, 90, 70]\n",
    "plt.scatter(test_1_grades, test_2_grades)\n",
    "plt.title(\"Axes Aren't Comparable\")\n",
    "plt.xlabel(\"test 1 grade\")\n",
    "plt.ylabel(\"test 2 grade\")\n",
    "plt.show()"
   ]
  },
  {
   "cell_type": "markdown",
   "metadata": {},
   "source": [
    "### Seaborn"
   ]
  },
  {
   "cell_type": "markdown",
   "metadata": {},
   "source": [
    "While Matplotlib is an extremley powerful tool for visualizing datasets in Python, the API can be daunting for beginners. In addition, it takes a considerable amount of work to produce aesthetically pleasing visualizations. Many libraries have been created to help remedy this problem, but in this notebook we will get a taste of the most popular of them, Seaborn.\n",
    "\n",
    "Below, we will take a visualization that we had made before, and see what the Seaborn library can do in improving the look of it.\n"
   ]
  },
  {
   "cell_type": "code",
   "execution_count": 10,
   "metadata": {
    "collapsed": true
   },
   "outputs": [],
   "source": [
    "import seaborn as sns"
   ]
  },
  {
   "cell_type": "code",
   "execution_count": 11,
   "metadata": {
    "collapsed": false
   },
   "outputs": [
    {
     "name": "stdout",
     "output_type": "stream",
     "text": [
      "[0.1, 1.1, 2.1, 3.1, 4.1]\n"
     ]
    },
    {
     "data": {
      "image/png": "[encoded data removed]",
      "text/plain": [
       "<matplotlib.figure.Figure at 0x7f31e6797410>"
      ]
     },
     "metadata": {},
     "output_type": "display_data"
    }
   ],
   "source": [
    "# These are movies we wish to plot, as well as the number of awards won\n",
    "movies = [\"Annie Hall\", \"Ben-Hur\", \"Casablanca\", \"Gandhi\", \"West Side Story\"]\n",
    "num_oscars = [5, 11, 3, 8, 10]\n",
    "\n",
    "'''\n",
    "Bars start from xcoordinate 0 by default, so to make the graph look nicer, we can add\n",
    "0.1 to each bar xcoordinate to shift them a bit to the right.\n",
    "\n",
    "One way to do this is to use a list comprehension along with a range from 0 to the length\n",
    "of movies, and yield a list of each index + 0.1.\n",
    "'''\n",
    "xcoords = [i+0.1  for i in range(0, len(movies))]\n",
    "print xcoords\n",
    "\n",
    "# plot bars with left x-coordinates [xcoords], heights [num_oscars]\n",
    "plt.bar(xcoords, num_oscars)\n",
    "\n",
    "# We can add titles and x/y labels by using the following plt methods\n",
    "plt.xlabel('Movies')\n",
    "plt.ylabel(\"# of Academy Awards\")\n",
    "plt.title(\"My Favorite Movies\")\n",
    "\n",
    "# To add a label for each bar, we can use .xticks with a list of xcoordinates and strings\n",
    "# We move over the xcoordinates by 0.5 this time just to properly center them\n",
    "plt.xticks([i + 0.5 for i in range(0, len(movies))], movies)\n",
    "\n",
    "#Let's remove the top and right axis \n",
    "sns.despine()\n",
    "\n",
    "#I'm showing you the graph in an talk, so let's set that context\n",
    "sns.set_context(\"notebook\")\n",
    "\n",
    "plt.show()"
   ]
  },
  {
   "cell_type": "code",
   "execution_count": null,
   "metadata": {
    "collapsed": false
   },
   "outputs": [],
   "source": []
  },
  {
   "cell_type": "code",
   "execution_count": null,
   "metadata": {
    "collapsed": false
   },
   "outputs": [],
   "source": []
  },
  {
   "cell_type": "code",
   "execution_count": null,
   "metadata": {
    "collapsed": true
   },
   "outputs": [],
   "source": []
  }
 ],
 "metadata": {
  "anaconda-cloud": {},
  "kernelspec": {
   "display_name": "Python 2",
   "language": "python",
   "name": "python2"
  },
  "language_info": {
   "codemirror_mode": {
    "name": "ipython",
    "version": 2
   },
   "file_extension": ".py",
   "mimetype": "text/x-python",
   "name": "python",
   "nbconvert_exporter": "python",
   "pygments_lexer": "ipython2",
   "version": "2.7.11+"
  }
 },
 "nbformat": 4,
 "nbformat_minor": 0
}
