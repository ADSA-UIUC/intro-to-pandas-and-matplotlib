{
 "cells": [
  {
   "cell_type": "markdown",
   "metadata": {},
   "source": [
    "![ADSA Logo](http://i.imgur.com/BV0CdHZ.png?2 \"ADSA Logo\")"
   ]
  },
  {
   "cell_type": "markdown",
   "metadata": {},
   "source": [
    "# ADSA Workshop 4 - Introduction to Pandas and Matplotlib\n",
    "Workshop content adapted from:\n",
    "* [Data Science from Scratch - First Principles with Python](http://www.amazon.com/Data-Science-Scratch-Principles-Python/dp/149190142X)\n",
    "* [Greg Reda's Intro to pandas data structures](http://www.gregreda.com/2013/10/26/intro-to-pandas-data-structures/)\n",
    "\n",
    "This workshop will dive into data processing and visualization with Numpy, Pandas, and Matplotlib.\n",
    "\n",
    "***"
   ]
  },
  {
   "cell_type": "markdown",
   "metadata": {},
   "source": [
    "# Pandas"
   ]
  },
  {
   "cell_type": "markdown",
   "metadata": {},
   "source": [
    "As stated on the official [pandas site](http://pandas.pydata.org/) \"pandas is an open source, BSD-licensed library providing high-performance, easy-to-use data structures and data analysis tools for the Python programming language.\" Pandas is built on top of NumPy, and provides two key data structures for processing data: Series and DataFrames."
   ]
  },
  {
   "cell_type": "markdown",
   "metadata": {},
   "source": [
    "To begin, we first need to import pandas, numpy, and (for future use) matplotlib."
   ]
  },
  {
   "cell_type": "code",
   "execution_count": null,
   "metadata": {
    "collapsed": true
   },
   "outputs": [],
   "source": [
    "import pandas as pd\n",
    "import numpy as np\n",
    "import matplotlib.pyplot as plt\n",
    "\n",
    "'''\n",
    "For easiest visual display later on.\n",
    "'''\n",
    "pd.set_option('max_columns', 50)\n",
    "\n",
    "'''\n",
    "This line is Jupyter Notebook specific and allows for graphs\n",
    "to be displayed in the notebook.\n",
    "''' \n",
    "%matplotlib inline"
   ]
  },
  {
   "cell_type": "markdown",
   "metadata": {},
   "source": [
    "## Series"
   ]
  },
  {
   "cell_type": "markdown",
   "metadata": {},
   "source": [
    "A Series is a one-dimensional object containing a series of items, and is similar to an array or list in Python. A Numpy series assigns a labeled index to every entry in the series, and uses the numbers 0 through n (length of the series - 1) by default."
   ]
  },
  {
   "cell_type": "markdown",
   "metadata": {},
   "source": [
    "To make a series, we can pass in a Python list to the pd.Series() function. Note the convenient printing format and indices given when we print the series."
   ]
  },
  {
   "cell_type": "code",
   "execution_count": null,
   "metadata": {
    "collapsed": false
   },
   "outputs": [],
   "source": [
    "s = pd.Series(['ADSA', 5, True, -3.14 ])\n",
    "print s"
   ]
  },
  {
   "cell_type": "markdown",
   "metadata": {},
   "source": [
    "If you want, you can specify index labels to be used rather than the default 0 to n, by passing in an index list. (Note that the index list must be the same length as the series)."
   ]
  },
  {
   "cell_type": "code",
   "execution_count": null,
   "metadata": {
    "collapsed": false
   },
   "outputs": [],
   "source": [
    "s = pd.Series(['ADSA', 5, True, -3.14 ], index=['A', 'B', 'C', 'D'])\n",
    "print s"
   ]
  },
  {
   "cell_type": "markdown",
   "metadata": {},
   "source": [
    "We can also take an existing Python dictionary and convert it to a series by passing it into the pd.Series() function."
   ]
  },
  {
   "cell_type": "code",
   "execution_count": null,
   "metadata": {
    "collapsed": false
   },
   "outputs": [],
   "source": [
    "# Let's assume we have a dictionary of cities and weather data\n",
    "d = {'Chicago': 75,\n",
    "     'Boston': 65,\n",
    "     'New York': 70,\n",
    "     'San Francisco': 80,\n",
    "     'Los Angeles': 82,\n",
    "     'Austin': None\n",
    "}\n",
    "\n",
    "weather = pd.Series(d)\n",
    "print weather"
   ]
  },
  {
   "cell_type": "markdown",
   "metadata": {},
   "source": [
    "We can then access data for specific indices by passing either a single index, or a list of indices in brackets."
   ]
  },
  {
   "cell_type": "code",
   "execution_count": null,
   "metadata": {
    "collapsed": false
   },
   "outputs": [],
   "source": [
    "print weather['Chicago']\n",
    "\n",
    "print '\\n'\n",
    "\n",
    "print weather[['Chicago', 'Austin']]"
   ]
  },
  {
   "cell_type": "markdown",
   "metadata": {},
   "source": [
    "We can use boolean statements involving our series in order to check if something is in a series or generate a series of true and false values for those entries which satisfy the statement."
   ]
  },
  {
   "cell_type": "code",
   "execution_count": null,
   "metadata": {
    "collapsed": false
   },
   "outputs": [],
   "source": [
    "print 'Chicago' in weather\n",
    "\n",
    "print '\\n'\n",
    "\n",
    "weather_less_than_80 = weather < 80\n",
    "print weather_less_than_80"
   ]
  },
  {
   "cell_type": "markdown",
   "metadata": {},
   "source": [
    "By passing in these boolean statements, we can query the series for entries which satisfy the boolean."
   ]
  },
  {
   "cell_type": "code",
   "execution_count": null,
   "metadata": {
    "collapsed": false,
    "scrolled": false
   },
   "outputs": [],
   "source": [
    "print weather[weather < 80]\n",
    "\n",
    "print '\\n'\n",
    "\n",
    "print weather[weather <= 70]\n",
    "\n",
    "print '\\n'\n",
    "\n",
    "print weather[weather < 65]\n",
    "\n",
    "print '\\n'"
   ]
  },
  {
   "cell_type": "markdown",
   "metadata": {},
   "source": [
    "We can also perform scalar multiplication and division, and numpy operations on series."
   ]
  },
  {
   "cell_type": "code",
   "execution_count": null,
   "metadata": {
    "collapsed": false
   },
   "outputs": [],
   "source": [
    "print weather / 3\n",
    "\n",
    "print '\\n'\n",
    "\n",
    "print weather * 2\n",
    "\n",
    "print '\\n'\n",
    "\n",
    "print np.square(weather)"
   ]
  },
  {
   "cell_type": "markdown",
   "metadata": {},
   "source": [
    "We can also add two series together. If the same index exists in both series, then their values will be added, otherwise a Null/NaN (Not a Number) value will be assigned to the resulting series."
   ]
  },
  {
   "cell_type": "code",
   "execution_count": null,
   "metadata": {
    "collapsed": false
   },
   "outputs": [],
   "source": [
    "# Note that the two dictionaries share the key 'New York' but not Chicago or Boston\n",
    "d1 = {'Chicago': 65, \n",
    "      'New York': 55\n",
    "     }\n",
    "\n",
    "d2 = {'New York': 10,\n",
    "      'Boston': 60\n",
    "     }\n",
    "\n",
    "s1 = pd.Series(d1)\n",
    "s2 = pd.Series(d2)\n",
    "\n",
    "# The value for New York will be added, but the values for Chicago and Boston are indeterminate and marked as NaN\n",
    "s3 = s1 + s2\n",
    "print s3"
   ]
  },
  {
   "cell_type": "markdown",
   "metadata": {},
   "source": [
    "Finally, to tell if values in a series or Null (NaN) or not, we can use the functions .isnull() and .notnull() respectively. Note that we can use the same boolean logic as before to either display True and False values for every index, or query for indices which are Null."
   ]
  },
  {
   "cell_type": "code",
   "execution_count": null,
   "metadata": {
    "collapsed": false
   },
   "outputs": [],
   "source": [
    "print s3.isnull()\n",
    "\n",
    "print '\\n'\n",
    "\n",
    "print s3[s3.isnull()]"
   ]
  },
  {
   "cell_type": "markdown",
   "metadata": {
    "collapsed": true
   },
   "source": [
    "# Data Visualization"
   ]
  },
  {
   "cell_type": "markdown",
   "metadata": {},
   "source": [
    "\"A fundamental part of the data scientist’s toolkit is data visualization. Although it is\n",
    "very easy to create visualizations, it’s much harder to produce good ones.\n",
    "There are two primary uses for data visualization:\n",
    "* To explore data\n",
    "* To communicate data\"\n",
    "\n",
    "-Joel Grus, Data Science from Scratch"
   ]
  },
  {
   "cell_type": "markdown",
   "metadata": {},
   "source": [
    "There are many tools that we can use to visualize data, however one of the most widely used tools is the [matplotlib](http://matplotlib.org/) library. While other libraries such as [d3.js](https://d3js.org/) are more commonly used for web visualizations, the matplotlib.pyplot module does an excellent job at quickly producing bar charts, line charts, and scatterplots in Python.\n",
    "\n",
    "To begin, we will first import the pyplot module from matplotlib."
   ]
  },
  {
   "cell_type": "code",
   "execution_count": null,
   "metadata": {
    "collapsed": false,
    "scrolled": true
   },
   "outputs": [],
   "source": [
    "%matplotlib inline\n",
    "\n",
    "import matplotlib\n",
    "import numpy as np\n",
    "import matplotlib.pyplot as plt"
   ]
  },
  {
   "cell_type": "markdown",
   "metadata": {},
   "source": [
    "## Bar Charts"
   ]
  },
  {
   "cell_type": "markdown",
   "metadata": {},
   "source": [
    "A bar chart can be a very helpful, simple visualization when you need to illustrate quantities of a discrete set of items."
   ]
  },
  {
   "cell_type": "code",
   "execution_count": null,
   "metadata": {
    "collapsed": false
   },
   "outputs": [],
   "source": []
  }
 ],
 "metadata": {
  "kernelspec": {
   "display_name": "Python 2",
   "language": "python",
   "name": "python2"
  },
  "language_info": {
   "codemirror_mode": {
    "name": "ipython",
    "version": 2
   },
   "file_extension": ".py",
   "mimetype": "text/x-python",
   "name": "python",
   "nbconvert_exporter": "python",
   "pygments_lexer": "ipython2",
   "version": "2.7.11"
  }
 },
 "nbformat": 4,
 "nbformat_minor": 0
}
