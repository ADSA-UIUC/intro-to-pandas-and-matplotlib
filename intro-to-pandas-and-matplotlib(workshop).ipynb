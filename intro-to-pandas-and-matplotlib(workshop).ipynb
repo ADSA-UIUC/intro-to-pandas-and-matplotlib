{
 "cells": [
  {
   "cell_type": "markdown",
   "metadata": {},
   "source": [
    "![ADSA Logo](http://i.imgur.com/BV0CdHZ.png?2 \"ADSA Logo\")"
   ]
  },
  {
   "cell_type": "markdown",
   "metadata": {},
   "source": [
    "# ADSA Workshop 4 - Introduction to Pandas and Matplotlib\n",
    "Workshop content adapted from:\n",
    "* [Data Science from Scratch - First Principles with Python](http://www.amazon.com/Data-Science-Scratch-Principles-Python/dp/149190142X)\n",
    "* [Greg Reda's Intro to pandas data structures](http://www.gregreda.com/2013/10/26/intro-to-pandas-data-structures/)\n",
    "* [Dr. Robert Brunner INFO 490](https://github.com/UI-DataScience/info490-fa16)\n",
    "\n",
    "\n",
    "This workshop will dive into data processing and visualization with Numpy, Pandas, and Matplotlib.\n",
    "\n",
    "***"
   ]
  },
  {
   "cell_type": "markdown",
   "metadata": {},
   "source": [
    "# Pandas"
   ]
  },
  {
   "cell_type": "markdown",
   "metadata": {},
   "source": [
    "As stated on the official [pandas site](http://pandas.pydata.org/) \"pandas is an open source, BSD-licensed library providing high-performance, easy-to-use data structures and data analysis tools for the Python programming language.\" Pandas is built on top of NumPy, and provides two key data structures for processing data: Series and DataFrames."
   ]
  },
  {
   "cell_type": "markdown",
   "metadata": {},
   "source": [
    "To begin, we first need to import pandas and numpy:"
   ]
  },
  {
   "cell_type": "code",
   "execution_count": 1,
   "metadata": {
    "collapsed": false
   },
   "outputs": [],
   "source": [
    "import pandas as pd\n",
    "import numpy as np\n",
    "\n",
    "'''\n",
    "For easiest visual display later on.\n",
    "'''\n",
    "pd.set_option('max_columns', 50)\n",
    "\n",
    "'''\n",
    "This line is Jupyter Notebook specific and allows for graphs\n",
    "to be displayed in the notebook.\n",
    "''' \n",
    "%matplotlib inline"
   ]
  },
  {
   "cell_type": "markdown",
   "metadata": {},
   "source": [
    "## Series"
   ]
  },
  {
   "cell_type": "markdown",
   "metadata": {},
   "source": [
    "A Series is a one-dimensional object containing a series of items, and is similar to an array or list in Python. A Numpy series assigns a labeled index to every entry in the series, and uses the numbers 0 through n (length of the series - 1) by default."
   ]
  },
  {
   "cell_type": "markdown",
   "metadata": {},
   "source": [
    "### Creating a Series"
   ]
  },
  {
   "cell_type": "markdown",
   "metadata": {},
   "source": [
    "To make a series, we can pass in a Python list to the pd.Series() function. Note the convenient printing format and indices given when we print the series."
   ]
  },
  {
   "cell_type": "code",
   "execution_count": 7,
   "metadata": {
    "collapsed": false
   },
   "outputs": [
    {
     "name": "stdout",
     "output_type": "stream",
     "text": [
      "0    ADSA\n",
      "1       5\n",
      "2    True\n",
      "3   -3.14\n",
      "dtype: object\n"
     ]
    }
   ],
   "source": [
    "s = pd.Series(['ADSA', 5, True, -3.14 ])\n",
    "print s"
   ]
  },
  {
   "cell_type": "markdown",
   "metadata": {},
   "source": [
    "If you want, you can specify index labels to be used rather than the default 0 to n, by passing in an index list. (Note that the index list must be the same length as the series)."
   ]
  },
  {
   "cell_type": "code",
   "execution_count": 8,
   "metadata": {
    "collapsed": false
   },
   "outputs": [
    {
     "name": "stdout",
     "output_type": "stream",
     "text": [
      "A    ADSA\n",
      "B       5\n",
      "C    True\n",
      "D   -3.76\n",
      "dtype: object\n"
     ]
    }
   ],
   "source": []
  },
  {
   "cell_type": "markdown",
   "metadata": {},
   "source": [
    "Now, let's say you have to create a series that has your day's agenda on it. Today, you will hang out with friends, do homework, play xbox, and study for your midterm. Since this is an agenda, you want to label the indexes as 1,2,3,4 so that they can be listed in order. How would you do this?"
   ]
  },
  {
   "cell_type": "code",
   "execution_count": null,
   "metadata": {
    "collapsed": false
   },
   "outputs": [],
   "source": []
  },
  {
   "cell_type": "markdown",
   "metadata": {},
   "source": [
    "We can also take an existing Python dictionary and convert it to a series by passing it into the pd.Series() function."
   ]
  },
  {
   "cell_type": "code",
   "execution_count": 9,
   "metadata": {
    "collapsed": false
   },
   "outputs": [
    {
     "name": "stdout",
     "output_type": "stream",
     "text": [
      "Austin            NaN\n",
      "Boston           65.0\n",
      "Chicago          75.0\n",
      "Los Angeles      82.0\n",
      "New York         70.0\n",
      "San Francisco    80.0\n",
      "dtype: float64\n"
     ]
    }
   ],
   "source": [
    "# Let's assume we have a dictionary of cities and weather data\n",
    "d = {'Chicago': 75,\n",
    "     'Boston': 65,\n",
    "     'New York': 70,\n",
    "     'San Francisco': 80,\n",
    "     'Los Angeles': 82,\n",
    "     'Austin': None\n",
    "}\n",
    "\n"
   ]
  },
  {
   "cell_type": "markdown",
   "metadata": {},
   "source": [
    "### Querying a Series"
   ]
  },
  {
   "cell_type": "markdown",
   "metadata": {},
   "source": [
    "We can then access data for specific indices by passing either a single index, or a list of indices in brackets."
   ]
  },
  {
   "cell_type": "code",
   "execution_count": 10,
   "metadata": {
    "collapsed": false
   },
   "outputs": [
    {
     "name": "stdout",
     "output_type": "stream",
     "text": [
      "75.0\n",
      "\n",
      "\n",
      "Chicago    75.0\n",
      "Austin      NaN\n",
      "dtype: float64\n"
     ]
    }
   ],
   "source": [
    "print weather['Chicago']\n",
    "\n",
    "print '\\n'\n",
    "\n",
    "print weather[['Chicago', 'Austin']]"
   ]
  },
  {
   "cell_type": "markdown",
   "metadata": {},
   "source": [
    "We can use boolean statements involving our series in order to check if something is in a series or generate a series of true and false values for those entries which satisfy the statement."
   ]
  },
  {
   "cell_type": "code",
   "execution_count": 11,
   "metadata": {
    "collapsed": false
   },
   "outputs": [
    {
     "name": "stdout",
     "output_type": "stream",
     "text": [
      "True\n",
      "\n",
      "\n",
      "Austin           False\n",
      "Boston            True\n",
      "Chicago           True\n",
      "Los Angeles      False\n",
      "New York          True\n",
      "San Francisco    False\n",
      "dtype: bool\n"
     ]
    }
   ],
   "source": [
    "print 'Chicago' in weather\n",
    "\n",
    "print '\\n'\n",
    "\n",
    "weather_less_than_80 = weather < 80\n",
    "print weather_less_than_80"
   ]
  },
  {
   "cell_type": "markdown",
   "metadata": {},
   "source": [
    "By passing in these boolean statements, we can query the series for entries which satisfy the boolean."
   ]
  },
  {
   "cell_type": "code",
   "execution_count": 12,
   "metadata": {
    "collapsed": false,
    "scrolled": false
   },
   "outputs": [
    {
     "name": "stdout",
     "output_type": "stream",
     "text": [
      "Boston      65.0\n",
      "Chicago     75.0\n",
      "New York    70.0\n",
      "dtype: float64\n",
      "\n",
      "\n",
      "Boston      65.0\n",
      "New York    70.0\n",
      "dtype: float64\n",
      "\n",
      "\n",
      "Series([], dtype: float64)\n",
      "\n",
      "\n"
     ]
    }
   ],
   "source": [
    "print weather[weather < 80]\n",
    "\n",
    "print '\\n'"
   ]
  },
  {
   "cell_type": "markdown",
   "metadata": {
    "collapsed": false
   },
   "source": [
    "Suppose we had a series which contained the various incomes of Apple Employees"
   ]
  },
  {
   "cell_type": "code",
   "execution_count": 13,
   "metadata": {
    "collapsed": false
   },
   "outputs": [
    {
     "name": "stdout",
     "output_type": "stream",
     "text": [
      "Employee 1    100000\n",
      "Employee 2     95000\n",
      "Employee 3    140000\n",
      "Employee 4     80000\n",
      "Employee 5     90000\n",
      "Employee 6    250000\n",
      "dtype: int64\n"
     ]
    }
   ],
   "source": [
    "q = {'Employee 1': 100000,\n",
    "     'Employee 2': 95000,\n",
    "     'Employee 3': 140000,\n",
    "     'Employee 4': 80000,\n",
    "     'Employee 5': 90000,\n",
    "     'Employee 6': 250000\n",
    "}\n",
    "income = pd.Series(q)\n",
    "print income"
   ]
  },
  {
   "cell_type": "markdown",
   "metadata": {},
   "source": [
    "If Apple decides to raise the income of everyone who is making less than $100,000, how will they identify these people? "
   ]
  },
  {
   "cell_type": "code",
   "execution_count": null,
   "metadata": {
    "collapsed": false
   },
   "outputs": [],
   "source": []
  },
  {
   "cell_type": "markdown",
   "metadata": {},
   "source": [
    "### Combining Series"
   ]
  },
  {
   "cell_type": "markdown",
   "metadata": {},
   "source": [
    "We can also perform scalar multiplication and division, and numpy operations on series."
   ]
  },
  {
   "cell_type": "code",
   "execution_count": 14,
   "metadata": {
    "collapsed": false
   },
   "outputs": [
    {
     "name": "stdout",
     "output_type": "stream",
     "text": [
      "Austin                 NaN\n",
      "Boston           21.666667\n",
      "Chicago          25.000000\n",
      "Los Angeles      27.333333\n",
      "New York         23.333333\n",
      "San Francisco    26.666667\n",
      "dtype: float64\n",
      "\n",
      "\n",
      "Austin             NaN\n",
      "Boston           130.0\n",
      "Chicago          150.0\n",
      "Los Angeles      164.0\n",
      "New York         140.0\n",
      "San Francisco    160.0\n",
      "dtype: float64\n",
      "\n",
      "\n",
      "Austin              NaN\n",
      "Boston           4225.0\n",
      "Chicago          5625.0\n",
      "Los Angeles      6724.0\n",
      "New York         4900.0\n",
      "San Francisco    6400.0\n",
      "dtype: float64\n"
     ]
    }
   ],
   "source": [
    "print weather / 3\n",
    "\n",
    "print '\\n'\n",
    "\n",
    "print weather * 2\n",
    "\n",
    "print '\\n'\n",
    "\n",
    "print np.square(weather)"
   ]
  },
  {
   "cell_type": "markdown",
   "metadata": {},
   "source": [
    "So if we work with the same example with the income of the Apple employees, how will we increase just the salary of those making less than 100,000 by a multiple of 1.25 ?"
   ]
  },
  {
   "cell_type": "code",
   "execution_count": 13,
   "metadata": {
    "collapsed": false
   },
   "outputs": [
    {
     "name": "stdout",
     "output_type": "stream",
     "text": [
      "Employee 2    118750.0\n",
      "Employee 4    100000.0\n",
      "Employee 5    112500.0\n",
      "dtype: float64\n"
     ]
    }
   ],
   "source": []
  },
  {
   "cell_type": "markdown",
   "metadata": {},
   "source": [
    "We can also add two series together. If the same index exists in both series, then their values will be added, otherwise a Null/NaN (Not a Number) value will be assigned to the resulting series."
   ]
  },
  {
   "cell_type": "code",
   "execution_count": 15,
   "metadata": {
    "collapsed": false
   },
   "outputs": [
    {
     "name": "stdout",
     "output_type": "stream",
     "text": [
      "Boston       NaN\n",
      "Chicago      NaN\n",
      "New York    65.0\n",
      "dtype: float64\n"
     ]
    }
   ],
   "source": [
    "# Note that the two dictionaries share the key 'New York' but not Chicago or Boston\n",
    "d1 = {'Chicago': 65, \n",
    "      'New York': 55\n",
    "     }\n",
    "\n",
    "d2 = {'New York': 10,\n",
    "      'Boston': 60\n",
    "     }\n",
    "\n",
    "s1 = pd.Series(d1)\n",
    "s2 = pd.Series(d2)\n",
    "\n",
    "# The value for New York will be added, but the values for Chicago and Boston are indeterminate and marked as NaN\n"
   ]
  },
  {
   "cell_type": "markdown",
   "metadata": {},
   "source": [
    "Finally, to tell if values in a series or Null (NaN) or not, we can use the functions .isnull() and .notnull() respectively. Note that we can use the same boolean logic as before to either display True and False values for every index, or query for indices which are Null."
   ]
  },
  {
   "cell_type": "code",
   "execution_count": 16,
   "metadata": {
    "collapsed": false
   },
   "outputs": [
    {
     "name": "stdout",
     "output_type": "stream",
     "text": [
      "Boston       True\n",
      "Chicago      True\n",
      "New York    False\n",
      "dtype: bool\n",
      "\n",
      "\n",
      "Boston    NaN\n",
      "Chicago   NaN\n",
      "dtype: float64\n"
     ]
    }
   ],
   "source": [
    "print s3.isnull()\n",
    "\n",
    "print '\\n'\n",
    "\n",
    "print s3[s3.isnull()]"
   ]
  },
  {
   "cell_type": "markdown",
   "metadata": {},
   "source": [
    "## DataFrames"
   ]
  },
  {
   "cell_type": "markdown",
   "metadata": {},
   "source": [
    "A DataFrame is a table-based Pandas data structure made up of rows and columns, just like a spreadsheet. Another way to think of DataFrames are as a group of Series in which each index is a column in the table."
   ]
  },
  {
   "cell_type": "markdown",
   "metadata": {},
   "source": [
    "### Creating a DataFrame from a Dictionary"
   ]
  },
  {
   "cell_type": "markdown",
   "metadata": {},
   "source": [
    "In order to create a DataFrame from Python structures, we can create a dictionary of lists, in which each dictionary key is a column of the table, and each entry in the key's list is the value for that column in each row. \n",
    "\n",
    "We then call the pd.DataFrame(data, columns) function where data = the Python dictionary to be passed in, and columns = the ordering in which the columns appear in the table (If no order is specified, column names will be listed alphabetically).\n",
    "\n"
   ]
  },
  {
   "cell_type": "code",
   "execution_count": 17,
   "metadata": {
    "collapsed": false
   },
   "outputs": [
    {
     "data": {
      "text/html": [
       "<div>\n",
       "<table border=\"1\" class=\"dataframe\">\n",
       "  <thead>\n",
       "    <tr style=\"text-align: right;\">\n",
       "      <th></th>\n",
       "      <th>student</th>\n",
       "      <th>credits</th>\n",
       "      <th>gpa</th>\n",
       "    </tr>\n",
       "  </thead>\n",
       "  <tbody>\n",
       "    <tr>\n",
       "      <th>0</th>\n",
       "      <td>Aaron</td>\n",
       "      <td>15</td>\n",
       "      <td>3.52</td>\n",
       "    </tr>\n",
       "    <tr>\n",
       "      <th>1</th>\n",
       "      <td>Josh</td>\n",
       "      <td>14</td>\n",
       "      <td>3.67</td>\n",
       "    </tr>\n",
       "    <tr>\n",
       "      <th>2</th>\n",
       "      <td>Tom</td>\n",
       "      <td>17</td>\n",
       "      <td>3.43</td>\n",
       "    </tr>\n",
       "    <tr>\n",
       "      <th>3</th>\n",
       "      <td>Justin</td>\n",
       "      <td>18</td>\n",
       "      <td>3.85</td>\n",
       "    </tr>\n",
       "    <tr>\n",
       "      <th>4</th>\n",
       "      <td>Andrew</td>\n",
       "      <td>14</td>\n",
       "      <td>3.32</td>\n",
       "    </tr>\n",
       "  </tbody>\n",
       "</table>\n",
       "</div>"
      ],
      "text/plain": [
       "  student credits   gpa\n",
       "0   Aaron      15  3.52\n",
       "1    Josh      14  3.67\n",
       "2     Tom      17  3.43\n",
       "3  Justin      18  3.85\n",
       "4  Andrew      14  3.32"
      ]
     },
     "execution_count": 17,
     "metadata": {},
     "output_type": "execute_result"
    }
   ],
   "source": [
    "d = {'student': ['Aaron', 'Josh', 'Tom', 'Justin', 'Andrew'],\n",
    "     'credits': ['15', '14', '17', '18', '14'],\n",
    "     'gpa': [3.52, 3.67, 3.43, 3.85, 3.32]\n",
    "}\n",
    "\n"
   ]
  },
  {
   "cell_type": "markdown",
   "metadata": {},
   "source": [
    "### Creating a DataFrame from a CSV"
   ]
  },
  {
   "cell_type": "markdown",
   "metadata": {},
   "source": [
    "Often times, the dataset we have will be in CSV (Comma Separated Value) form. CSV files exist as a series of values separated by commas. For this tutorial, we have pulled a sample CSV file from the [Kaggle Titanic Project](https://www.kaggle.com/c/titanic/data?train.csv) containing data on the passengers of the Titanic.\n",
    "\n",
    "To see what the Titanic data looks like as a CSV, click [here](https://raw.githubusercontent.com/pcsanwald/kaggle-titanic/master/train.csv). "
   ]
  },
  {
   "cell_type": "markdown",
   "metadata": {},
   "source": [
    "We can easily take data from a CSV file and import it into a DataFrame by using the pd.read_csv() function. By passing in header=0, we tell Pandas that the header information is contained on row 0.\n",
    "\n",
    "We can then read the first 5 entries by using the .head() function."
   ]
  },
  {
   "cell_type": "code",
   "execution_count": 18,
   "metadata": {
    "collapsed": false
   },
   "outputs": [
    {
     "name": "stdout",
     "output_type": "stream",
     "text": [
      "<class 'pandas.core.frame.DataFrame'>\n"
     ]
    },
    {
     "data": {
      "text/html": [
       "<div>\n",
       "<table border=\"1\" class=\"dataframe\">\n",
       "  <thead>\n",
       "    <tr style=\"text-align: right;\">\n",
       "      <th></th>\n",
       "      <th>PassengerId</th>\n",
       "      <th>Survived</th>\n",
       "      <th>Pclass</th>\n",
       "      <th>Name</th>\n",
       "      <th>Sex</th>\n",
       "      <th>Age</th>\n",
       "      <th>SibSp</th>\n",
       "      <th>Parch</th>\n",
       "      <th>Ticket</th>\n",
       "      <th>Fare</th>\n",
       "      <th>Cabin</th>\n",
       "      <th>Embarked</th>\n",
       "    </tr>\n",
       "  </thead>\n",
       "  <tbody>\n",
       "    <tr>\n",
       "      <th>0</th>\n",
       "      <td>1</td>\n",
       "      <td>0</td>\n",
       "      <td>3</td>\n",
       "      <td>Braund, Mr. Owen Harris</td>\n",
       "      <td>male</td>\n",
       "      <td>22.0</td>\n",
       "      <td>1</td>\n",
       "      <td>0</td>\n",
       "      <td>A/5 21171</td>\n",
       "      <td>7.2500</td>\n",
       "      <td>NaN</td>\n",
       "      <td>S</td>\n",
       "    </tr>\n",
       "    <tr>\n",
       "      <th>1</th>\n",
       "      <td>2</td>\n",
       "      <td>1</td>\n",
       "      <td>1</td>\n",
       "      <td>Cumings, Mrs. John Bradley (Florence Briggs Th...</td>\n",
       "      <td>female</td>\n",
       "      <td>38.0</td>\n",
       "      <td>1</td>\n",
       "      <td>0</td>\n",
       "      <td>PC 17599</td>\n",
       "      <td>71.2833</td>\n",
       "      <td>C85</td>\n",
       "      <td>C</td>\n",
       "    </tr>\n",
       "    <tr>\n",
       "      <th>2</th>\n",
       "      <td>3</td>\n",
       "      <td>1</td>\n",
       "      <td>3</td>\n",
       "      <td>Heikkinen, Miss. Laina</td>\n",
       "      <td>female</td>\n",
       "      <td>26.0</td>\n",
       "      <td>0</td>\n",
       "      <td>0</td>\n",
       "      <td>STON/O2. 3101282</td>\n",
       "      <td>7.9250</td>\n",
       "      <td>NaN</td>\n",
       "      <td>S</td>\n",
       "    </tr>\n",
       "    <tr>\n",
       "      <th>3</th>\n",
       "      <td>4</td>\n",
       "      <td>1</td>\n",
       "      <td>1</td>\n",
       "      <td>Futrelle, Mrs. Jacques Heath (Lily May Peel)</td>\n",
       "      <td>female</td>\n",
       "      <td>35.0</td>\n",
       "      <td>1</td>\n",
       "      <td>0</td>\n",
       "      <td>113803</td>\n",
       "      <td>53.1000</td>\n",
       "      <td>C123</td>\n",
       "      <td>S</td>\n",
       "    </tr>\n",
       "    <tr>\n",
       "      <th>4</th>\n",
       "      <td>5</td>\n",
       "      <td>0</td>\n",
       "      <td>3</td>\n",
       "      <td>Allen, Mr. William Henry</td>\n",
       "      <td>male</td>\n",
       "      <td>35.0</td>\n",
       "      <td>0</td>\n",
       "      <td>0</td>\n",
       "      <td>373450</td>\n",
       "      <td>8.0500</td>\n",
       "      <td>NaN</td>\n",
       "      <td>S</td>\n",
       "    </tr>\n",
       "  </tbody>\n",
       "</table>\n",
       "</div>"
      ],
      "text/plain": [
       "   PassengerId  Survived  Pclass  \\\n",
       "0            1         0       3   \n",
       "1            2         1       1   \n",
       "2            3         1       3   \n",
       "3            4         1       1   \n",
       "4            5         0       3   \n",
       "\n",
       "                                                Name     Sex   Age  SibSp  \\\n",
       "0                            Braund, Mr. Owen Harris    male  22.0      1   \n",
       "1  Cumings, Mrs. John Bradley (Florence Briggs Th...  female  38.0      1   \n",
       "2                             Heikkinen, Miss. Laina  female  26.0      0   \n",
       "3       Futrelle, Mrs. Jacques Heath (Lily May Peel)  female  35.0      1   \n",
       "4                           Allen, Mr. William Henry    male  35.0      0   \n",
       "\n",
       "   Parch            Ticket     Fare Cabin Embarked  \n",
       "0      0         A/5 21171   7.2500   NaN        S  \n",
       "1      0          PC 17599  71.2833   C85        C  \n",
       "2      0  STON/O2. 3101282   7.9250   NaN        S  \n",
       "3      0            113803  53.1000  C123        S  \n",
       "4      0            373450   8.0500   NaN        S  "
      ]
     },
     "execution_count": 18,
     "metadata": {},
     "output_type": "execute_result"
    }
   ],
   "source": [
    "df = pd.read_csv('train.csv', header=0)\n",
    "\n",
    "# Note that the csv data is now a Pandas DataFrame\n",
    "print type(df)\n",
    "\n",
    "# Returns first 5 entries\n"
   ]
  },
  {
   "cell_type": "markdown",
   "metadata": {},
   "source": [
    "To view the last n entries, we can use the .tail(n) function."
   ]
  },
  {
   "cell_type": "code",
   "execution_count": 19,
   "metadata": {
    "collapsed": false
   },
   "outputs": [
    {
     "data": {
      "text/html": [
       "<div>\n",
       "<table border=\"1\" class=\"dataframe\">\n",
       "  <thead>\n",
       "    <tr style=\"text-align: right;\">\n",
       "      <th></th>\n",
       "      <th>PassengerId</th>\n",
       "      <th>Survived</th>\n",
       "      <th>Pclass</th>\n",
       "      <th>Name</th>\n",
       "      <th>Sex</th>\n",
       "      <th>Age</th>\n",
       "      <th>SibSp</th>\n",
       "      <th>Parch</th>\n",
       "      <th>Ticket</th>\n",
       "      <th>Fare</th>\n",
       "      <th>Cabin</th>\n",
       "      <th>Embarked</th>\n",
       "    </tr>\n",
       "  </thead>\n",
       "  <tbody>\n",
       "    <tr>\n",
       "      <th>888</th>\n",
       "      <td>889</td>\n",
       "      <td>0</td>\n",
       "      <td>3</td>\n",
       "      <td>Johnston, Miss. Catherine Helen \"Carrie\"</td>\n",
       "      <td>female</td>\n",
       "      <td>NaN</td>\n",
       "      <td>1</td>\n",
       "      <td>2</td>\n",
       "      <td>W./C. 6607</td>\n",
       "      <td>23.45</td>\n",
       "      <td>NaN</td>\n",
       "      <td>S</td>\n",
       "    </tr>\n",
       "    <tr>\n",
       "      <th>889</th>\n",
       "      <td>890</td>\n",
       "      <td>1</td>\n",
       "      <td>1</td>\n",
       "      <td>Behr, Mr. Karl Howell</td>\n",
       "      <td>male</td>\n",
       "      <td>26.0</td>\n",
       "      <td>0</td>\n",
       "      <td>0</td>\n",
       "      <td>111369</td>\n",
       "      <td>30.00</td>\n",
       "      <td>C148</td>\n",
       "      <td>C</td>\n",
       "    </tr>\n",
       "    <tr>\n",
       "      <th>890</th>\n",
       "      <td>891</td>\n",
       "      <td>0</td>\n",
       "      <td>3</td>\n",
       "      <td>Dooley, Mr. Patrick</td>\n",
       "      <td>male</td>\n",
       "      <td>32.0</td>\n",
       "      <td>0</td>\n",
       "      <td>0</td>\n",
       "      <td>370376</td>\n",
       "      <td>7.75</td>\n",
       "      <td>NaN</td>\n",
       "      <td>Q</td>\n",
       "    </tr>\n",
       "  </tbody>\n",
       "</table>\n",
       "</div>"
      ],
      "text/plain": [
       "     PassengerId  Survived  Pclass                                      Name  \\\n",
       "888          889         0       3  Johnston, Miss. Catherine Helen \"Carrie\"   \n",
       "889          890         1       1                     Behr, Mr. Karl Howell   \n",
       "890          891         0       3                       Dooley, Mr. Patrick   \n",
       "\n",
       "        Sex   Age  SibSp  Parch      Ticket   Fare Cabin Embarked  \n",
       "888  female   NaN      1      2  W./C. 6607  23.45   NaN        S  \n",
       "889    male  26.0      0      0      111369  30.00  C148        C  \n",
       "890    male  32.0      0      0      370376   7.75   NaN        Q  "
      ]
     },
     "execution_count": 19,
     "metadata": {},
     "output_type": "execute_result"
    }
   ],
   "source": []
  },
  {
   "cell_type": "markdown",
   "metadata": {},
   "source": [
    "### Analyzing the Data"
   ]
  },
  {
   "cell_type": "markdown",
   "metadata": {},
   "source": [
    "By calling the .info() function, we can see information regarding the column names, total number of entries, and types for each column."
   ]
  },
  {
   "cell_type": "code",
   "execution_count": 20,
   "metadata": {
    "collapsed": false
   },
   "outputs": [
    {
     "name": "stdout",
     "output_type": "stream",
     "text": [
      "<class 'pandas.core.frame.DataFrame'>\n",
      "RangeIndex: 891 entries, 0 to 890\n",
      "Data columns (total 12 columns):\n",
      "PassengerId    891 non-null int64\n",
      "Survived       891 non-null int64\n",
      "Pclass         891 non-null int64\n",
      "Name           891 non-null object\n",
      "Sex            891 non-null object\n",
      "Age            714 non-null float64\n",
      "SibSp          891 non-null int64\n",
      "Parch          891 non-null int64\n",
      "Ticket         891 non-null object\n",
      "Fare           891 non-null float64\n",
      "Cabin          204 non-null object\n",
      "Embarked       889 non-null object\n",
      "dtypes: float64(2), int64(5), object(5)\n",
      "memory usage: 83.6+ KB\n"
     ]
    }
   ],
   "source": []
  },
  {
   "cell_type": "markdown",
   "metadata": {},
   "source": [
    "From this data, we can see that we have 891 entries (rows) in our DataFrame. We can also infer that since Age, Cabin, and Embarked do not have 891 entries, there are some rows for which that information is Null."
   ]
  },
  {
   "cell_type": "markdown",
   "metadata": {},
   "source": [
    "### Summarizing the Data"
   ]
  },
  {
   "cell_type": "markdown",
   "metadata": {},
   "source": [
    "The .describe() function can be incredibly useful when analzing a data set. By calling this function, Pandas will tell us the count, mean, standard deviation, interquartile range, maximum, and minumum values for each column in our data set which has a numerical type.\n",
    "\n",
    "We must however, remember that there are Null values in the Age, Cabin, and Embarked columns, meaning you should take that into considering when discussing their described values."
   ]
  },
  {
   "cell_type": "code",
   "execution_count": 20,
   "metadata": {
    "collapsed": false
   },
   "outputs": [
    {
     "data": {
      "text/html": [
       "<div>\n",
       "<table border=\"1\" class=\"dataframe\">\n",
       "  <thead>\n",
       "    <tr style=\"text-align: right;\">\n",
       "      <th></th>\n",
       "      <th>PassengerId</th>\n",
       "      <th>Survived</th>\n",
       "      <th>Pclass</th>\n",
       "      <th>Age</th>\n",
       "      <th>SibSp</th>\n",
       "      <th>Parch</th>\n",
       "      <th>Fare</th>\n",
       "    </tr>\n",
       "  </thead>\n",
       "  <tbody>\n",
       "    <tr>\n",
       "      <th>count</th>\n",
       "      <td>891.000000</td>\n",
       "      <td>891.000000</td>\n",
       "      <td>891.000000</td>\n",
       "      <td>714.000000</td>\n",
       "      <td>891.000000</td>\n",
       "      <td>891.000000</td>\n",
       "      <td>891.000000</td>\n",
       "    </tr>\n",
       "    <tr>\n",
       "      <th>mean</th>\n",
       "      <td>446.000000</td>\n",
       "      <td>0.383838</td>\n",
       "      <td>2.308642</td>\n",
       "      <td>29.699118</td>\n",
       "      <td>0.523008</td>\n",
       "      <td>0.381594</td>\n",
       "      <td>32.204208</td>\n",
       "    </tr>\n",
       "    <tr>\n",
       "      <th>std</th>\n",
       "      <td>257.353842</td>\n",
       "      <td>0.486592</td>\n",
       "      <td>0.836071</td>\n",
       "      <td>14.526497</td>\n",
       "      <td>1.102743</td>\n",
       "      <td>0.806057</td>\n",
       "      <td>49.693429</td>\n",
       "    </tr>\n",
       "    <tr>\n",
       "      <th>min</th>\n",
       "      <td>1.000000</td>\n",
       "      <td>0.000000</td>\n",
       "      <td>1.000000</td>\n",
       "      <td>0.420000</td>\n",
       "      <td>0.000000</td>\n",
       "      <td>0.000000</td>\n",
       "      <td>0.000000</td>\n",
       "    </tr>\n",
       "    <tr>\n",
       "      <th>25%</th>\n",
       "      <td>223.500000</td>\n",
       "      <td>0.000000</td>\n",
       "      <td>2.000000</td>\n",
       "      <td>20.125000</td>\n",
       "      <td>0.000000</td>\n",
       "      <td>0.000000</td>\n",
       "      <td>7.910400</td>\n",
       "    </tr>\n",
       "    <tr>\n",
       "      <th>50%</th>\n",
       "      <td>446.000000</td>\n",
       "      <td>0.000000</td>\n",
       "      <td>3.000000</td>\n",
       "      <td>28.000000</td>\n",
       "      <td>0.000000</td>\n",
       "      <td>0.000000</td>\n",
       "      <td>14.454200</td>\n",
       "    </tr>\n",
       "    <tr>\n",
       "      <th>75%</th>\n",
       "      <td>668.500000</td>\n",
       "      <td>1.000000</td>\n",
       "      <td>3.000000</td>\n",
       "      <td>38.000000</td>\n",
       "      <td>1.000000</td>\n",
       "      <td>0.000000</td>\n",
       "      <td>31.000000</td>\n",
       "    </tr>\n",
       "    <tr>\n",
       "      <th>max</th>\n",
       "      <td>891.000000</td>\n",
       "      <td>1.000000</td>\n",
       "      <td>3.000000</td>\n",
       "      <td>80.000000</td>\n",
       "      <td>8.000000</td>\n",
       "      <td>6.000000</td>\n",
       "      <td>512.329200</td>\n",
       "    </tr>\n",
       "  </tbody>\n",
       "</table>\n",
       "</div>"
      ],
      "text/plain": [
       "       PassengerId    Survived      Pclass         Age       SibSp  \\\n",
       "count   891.000000  891.000000  891.000000  714.000000  891.000000   \n",
       "mean    446.000000    0.383838    2.308642   29.699118    0.523008   \n",
       "std     257.353842    0.486592    0.836071   14.526497    1.102743   \n",
       "min       1.000000    0.000000    1.000000    0.420000    0.000000   \n",
       "25%     223.500000    0.000000    2.000000   20.125000    0.000000   \n",
       "50%     446.000000    0.000000    3.000000   28.000000    0.000000   \n",
       "75%     668.500000    1.000000    3.000000   38.000000    1.000000   \n",
       "max     891.000000    1.000000    3.000000   80.000000    8.000000   \n",
       "\n",
       "            Parch        Fare  \n",
       "count  891.000000  891.000000  \n",
       "mean     0.381594   32.204208  \n",
       "std      0.806057   49.693429  \n",
       "min      0.000000    0.000000  \n",
       "25%      0.000000    7.910400  \n",
       "50%      0.000000   14.454200  \n",
       "75%      0.000000   31.000000  \n",
       "max      6.000000  512.329200  "
      ]
     },
     "execution_count": 20,
     "metadata": {},
     "output_type": "execute_result"
    }
   ],
   "source": []
  },
  {
   "cell_type": "markdown",
   "metadata": {},
   "source": [
    "### Data Munging (Cleaning)"
   ]
  },
  {
   "cell_type": "markdown",
   "metadata": {},
   "source": [
    "Pandas provides many tools to manipulate, filter, combine, and transform your data. We will now cover the syntax and some of the things you can do."
   ]
  },
  {
   "cell_type": "markdown",
   "metadata": {},
   "source": [
    "### Filtering Data"
   ]
  },
  {
   "cell_type": "markdown",
   "metadata": {},
   "source": [
    "To grab the first 10 rows from the age column, we can enter the key and indices in square brackets [ ]. Alternatively, you can acess a column by typing its name right after the DataFrame name like df.Survived[0:10]."
   ]
  },
  {
   "cell_type": "code",
   "execution_count": 21,
   "metadata": {
    "collapsed": false
   },
   "outputs": [
    {
     "name": "stdout",
     "output_type": "stream",
     "text": [
      "0    22.0\n",
      "1    38.0\n",
      "2    26.0\n",
      "3    35.0\n",
      "4    35.0\n",
      "5     NaN\n",
      "6    54.0\n",
      "7     2.0\n",
      "8    27.0\n",
      "9    14.0\n",
      "Name: Age, dtype: float64\n",
      "\n",
      "0    22.0\n",
      "1    38.0\n",
      "2    26.0\n",
      "3    35.0\n",
      "4    35.0\n",
      "5     NaN\n",
      "6    54.0\n",
      "7     2.0\n",
      "8    27.0\n",
      "9    14.0\n",
      "Name: Age, dtype: float64\n"
     ]
    }
   ],
   "source": [
    "# Without indices, we can grab the entire column\n",
    "# df.Age or df['Age']\n"
   ]
  },
  {
   "cell_type": "markdown",
   "metadata": {},
   "source": [
    "If we look at the type of each column, we can see that DataFrames are actually made up of Pandas Series."
   ]
  },
  {
   "cell_type": "code",
   "execution_count": 22,
   "metadata": {
    "collapsed": false
   },
   "outputs": [
    {
     "data": {
      "text/plain": [
       "pandas.core.series.Series"
      ]
     },
     "execution_count": 22,
     "metadata": {},
     "output_type": "execute_result"
    }
   ],
   "source": [
    "type(df.Age)"
   ]
  },
  {
   "cell_type": "markdown",
   "metadata": {},
   "source": [
    "By grabbing an individual column as a series, we can calculate the mean, median, or a number of statistical values by using methods of the same name."
   ]
  },
  {
   "cell_type": "code",
   "execution_count": 21,
   "metadata": {
    "collapsed": false
   },
   "outputs": [
    {
     "name": "stdout",
     "output_type": "stream",
     "text": [
      "MEAN: 29.6991176471\n",
      "MEDIAN: 28.0\n",
      "MAX: 80.0\n",
      "MIN: 0.42\n",
      "SUM: 21205.17\n"
     ]
    }
   ],
   "source": []
  },
  {
   "cell_type": "markdown",
   "metadata": {},
   "source": [
    "We can also grab a number of columns at once by passing in a list of columns."
   ]
  },
  {
   "cell_type": "code",
   "execution_count": 22,
   "metadata": {
    "collapsed": false
   },
   "outputs": [
    {
     "data": {
      "text/html": [
       "<div>\n",
       "<table border=\"1\" class=\"dataframe\">\n",
       "  <thead>\n",
       "    <tr style=\"text-align: right;\">\n",
       "      <th></th>\n",
       "      <th>Sex</th>\n",
       "      <th>Pclass</th>\n",
       "      <th>Age</th>\n",
       "    </tr>\n",
       "  </thead>\n",
       "  <tbody>\n",
       "    <tr>\n",
       "      <th>0</th>\n",
       "      <td>male</td>\n",
       "      <td>3</td>\n",
       "      <td>22.0</td>\n",
       "    </tr>\n",
       "    <tr>\n",
       "      <th>1</th>\n",
       "      <td>female</td>\n",
       "      <td>1</td>\n",
       "      <td>38.0</td>\n",
       "    </tr>\n",
       "    <tr>\n",
       "      <th>2</th>\n",
       "      <td>female</td>\n",
       "      <td>3</td>\n",
       "      <td>26.0</td>\n",
       "    </tr>\n",
       "    <tr>\n",
       "      <th>3</th>\n",
       "      <td>female</td>\n",
       "      <td>1</td>\n",
       "      <td>35.0</td>\n",
       "    </tr>\n",
       "    <tr>\n",
       "      <th>4</th>\n",
       "      <td>male</td>\n",
       "      <td>3</td>\n",
       "      <td>35.0</td>\n",
       "    </tr>\n",
       "    <tr>\n",
       "      <th>5</th>\n",
       "      <td>male</td>\n",
       "      <td>3</td>\n",
       "      <td>NaN</td>\n",
       "    </tr>\n",
       "    <tr>\n",
       "      <th>6</th>\n",
       "      <td>male</td>\n",
       "      <td>1</td>\n",
       "      <td>54.0</td>\n",
       "    </tr>\n",
       "    <tr>\n",
       "      <th>7</th>\n",
       "      <td>male</td>\n",
       "      <td>3</td>\n",
       "      <td>2.0</td>\n",
       "    </tr>\n",
       "    <tr>\n",
       "      <th>8</th>\n",
       "      <td>female</td>\n",
       "      <td>3</td>\n",
       "      <td>27.0</td>\n",
       "    </tr>\n",
       "    <tr>\n",
       "      <th>9</th>\n",
       "      <td>female</td>\n",
       "      <td>2</td>\n",
       "      <td>14.0</td>\n",
       "    </tr>\n",
       "    <tr>\n",
       "      <th>10</th>\n",
       "      <td>female</td>\n",
       "      <td>3</td>\n",
       "      <td>4.0</td>\n",
       "    </tr>\n",
       "    <tr>\n",
       "      <th>11</th>\n",
       "      <td>female</td>\n",
       "      <td>1</td>\n",
       "      <td>58.0</td>\n",
       "    </tr>\n",
       "    <tr>\n",
       "      <th>12</th>\n",
       "      <td>male</td>\n",
       "      <td>3</td>\n",
       "      <td>20.0</td>\n",
       "    </tr>\n",
       "    <tr>\n",
       "      <th>13</th>\n",
       "      <td>male</td>\n",
       "      <td>3</td>\n",
       "      <td>39.0</td>\n",
       "    </tr>\n",
       "    <tr>\n",
       "      <th>14</th>\n",
       "      <td>female</td>\n",
       "      <td>3</td>\n",
       "      <td>14.0</td>\n",
       "    </tr>\n",
       "    <tr>\n",
       "      <th>15</th>\n",
       "      <td>female</td>\n",
       "      <td>2</td>\n",
       "      <td>55.0</td>\n",
       "    </tr>\n",
       "    <tr>\n",
       "      <th>16</th>\n",
       "      <td>male</td>\n",
       "      <td>3</td>\n",
       "      <td>2.0</td>\n",
       "    </tr>\n",
       "    <tr>\n",
       "      <th>17</th>\n",
       "      <td>male</td>\n",
       "      <td>2</td>\n",
       "      <td>NaN</td>\n",
       "    </tr>\n",
       "    <tr>\n",
       "      <th>18</th>\n",
       "      <td>female</td>\n",
       "      <td>3</td>\n",
       "      <td>31.0</td>\n",
       "    </tr>\n",
       "    <tr>\n",
       "      <th>19</th>\n",
       "      <td>female</td>\n",
       "      <td>3</td>\n",
       "      <td>NaN</td>\n",
       "    </tr>\n",
       "    <tr>\n",
       "      <th>20</th>\n",
       "      <td>male</td>\n",
       "      <td>2</td>\n",
       "      <td>35.0</td>\n",
       "    </tr>\n",
       "    <tr>\n",
       "      <th>21</th>\n",
       "      <td>male</td>\n",
       "      <td>2</td>\n",
       "      <td>34.0</td>\n",
       "    </tr>\n",
       "    <tr>\n",
       "      <th>22</th>\n",
       "      <td>female</td>\n",
       "      <td>3</td>\n",
       "      <td>15.0</td>\n",
       "    </tr>\n",
       "    <tr>\n",
       "      <th>23</th>\n",
       "      <td>male</td>\n",
       "      <td>1</td>\n",
       "      <td>28.0</td>\n",
       "    </tr>\n",
       "    <tr>\n",
       "      <th>24</th>\n",
       "      <td>female</td>\n",
       "      <td>3</td>\n",
       "      <td>8.0</td>\n",
       "    </tr>\n",
       "    <tr>\n",
       "      <th>25</th>\n",
       "      <td>female</td>\n",
       "      <td>3</td>\n",
       "      <td>38.0</td>\n",
       "    </tr>\n",
       "    <tr>\n",
       "      <th>26</th>\n",
       "      <td>male</td>\n",
       "      <td>3</td>\n",
       "      <td>NaN</td>\n",
       "    </tr>\n",
       "    <tr>\n",
       "      <th>27</th>\n",
       "      <td>male</td>\n",
       "      <td>1</td>\n",
       "      <td>19.0</td>\n",
       "    </tr>\n",
       "    <tr>\n",
       "      <th>28</th>\n",
       "      <td>female</td>\n",
       "      <td>3</td>\n",
       "      <td>NaN</td>\n",
       "    </tr>\n",
       "    <tr>\n",
       "      <th>29</th>\n",
       "      <td>male</td>\n",
       "      <td>3</td>\n",
       "      <td>NaN</td>\n",
       "    </tr>\n",
       "    <tr>\n",
       "      <th>...</th>\n",
       "      <td>...</td>\n",
       "      <td>...</td>\n",
       "      <td>...</td>\n",
       "    </tr>\n",
       "    <tr>\n",
       "      <th>861</th>\n",
       "      <td>male</td>\n",
       "      <td>2</td>\n",
       "      <td>21.0</td>\n",
       "    </tr>\n",
       "    <tr>\n",
       "      <th>862</th>\n",
       "      <td>female</td>\n",
       "      <td>1</td>\n",
       "      <td>48.0</td>\n",
       "    </tr>\n",
       "    <tr>\n",
       "      <th>863</th>\n",
       "      <td>female</td>\n",
       "      <td>3</td>\n",
       "      <td>NaN</td>\n",
       "    </tr>\n",
       "    <tr>\n",
       "      <th>864</th>\n",
       "      <td>male</td>\n",
       "      <td>2</td>\n",
       "      <td>24.0</td>\n",
       "    </tr>\n",
       "    <tr>\n",
       "      <th>865</th>\n",
       "      <td>female</td>\n",
       "      <td>2</td>\n",
       "      <td>42.0</td>\n",
       "    </tr>\n",
       "    <tr>\n",
       "      <th>866</th>\n",
       "      <td>female</td>\n",
       "      <td>2</td>\n",
       "      <td>27.0</td>\n",
       "    </tr>\n",
       "    <tr>\n",
       "      <th>867</th>\n",
       "      <td>male</td>\n",
       "      <td>1</td>\n",
       "      <td>31.0</td>\n",
       "    </tr>\n",
       "    <tr>\n",
       "      <th>868</th>\n",
       "      <td>male</td>\n",
       "      <td>3</td>\n",
       "      <td>NaN</td>\n",
       "    </tr>\n",
       "    <tr>\n",
       "      <th>869</th>\n",
       "      <td>male</td>\n",
       "      <td>3</td>\n",
       "      <td>4.0</td>\n",
       "    </tr>\n",
       "    <tr>\n",
       "      <th>870</th>\n",
       "      <td>male</td>\n",
       "      <td>3</td>\n",
       "      <td>26.0</td>\n",
       "    </tr>\n",
       "    <tr>\n",
       "      <th>871</th>\n",
       "      <td>female</td>\n",
       "      <td>1</td>\n",
       "      <td>47.0</td>\n",
       "    </tr>\n",
       "    <tr>\n",
       "      <th>872</th>\n",
       "      <td>male</td>\n",
       "      <td>1</td>\n",
       "      <td>33.0</td>\n",
       "    </tr>\n",
       "    <tr>\n",
       "      <th>873</th>\n",
       "      <td>male</td>\n",
       "      <td>3</td>\n",
       "      <td>47.0</td>\n",
       "    </tr>\n",
       "    <tr>\n",
       "      <th>874</th>\n",
       "      <td>female</td>\n",
       "      <td>2</td>\n",
       "      <td>28.0</td>\n",
       "    </tr>\n",
       "    <tr>\n",
       "      <th>875</th>\n",
       "      <td>female</td>\n",
       "      <td>3</td>\n",
       "      <td>15.0</td>\n",
       "    </tr>\n",
       "    <tr>\n",
       "      <th>876</th>\n",
       "      <td>male</td>\n",
       "      <td>3</td>\n",
       "      <td>20.0</td>\n",
       "    </tr>\n",
       "    <tr>\n",
       "      <th>877</th>\n",
       "      <td>male</td>\n",
       "      <td>3</td>\n",
       "      <td>19.0</td>\n",
       "    </tr>\n",
       "    <tr>\n",
       "      <th>878</th>\n",
       "      <td>male</td>\n",
       "      <td>3</td>\n",
       "      <td>NaN</td>\n",
       "    </tr>\n",
       "    <tr>\n",
       "      <th>879</th>\n",
       "      <td>female</td>\n",
       "      <td>1</td>\n",
       "      <td>56.0</td>\n",
       "    </tr>\n",
       "    <tr>\n",
       "      <th>880</th>\n",
       "      <td>female</td>\n",
       "      <td>2</td>\n",
       "      <td>25.0</td>\n",
       "    </tr>\n",
       "    <tr>\n",
       "      <th>881</th>\n",
       "      <td>male</td>\n",
       "      <td>3</td>\n",
       "      <td>33.0</td>\n",
       "    </tr>\n",
       "    <tr>\n",
       "      <th>882</th>\n",
       "      <td>female</td>\n",
       "      <td>3</td>\n",
       "      <td>22.0</td>\n",
       "    </tr>\n",
       "    <tr>\n",
       "      <th>883</th>\n",
       "      <td>male</td>\n",
       "      <td>2</td>\n",
       "      <td>28.0</td>\n",
       "    </tr>\n",
       "    <tr>\n",
       "      <th>884</th>\n",
       "      <td>male</td>\n",
       "      <td>3</td>\n",
       "      <td>25.0</td>\n",
       "    </tr>\n",
       "    <tr>\n",
       "      <th>885</th>\n",
       "      <td>female</td>\n",
       "      <td>3</td>\n",
       "      <td>39.0</td>\n",
       "    </tr>\n",
       "    <tr>\n",
       "      <th>886</th>\n",
       "      <td>male</td>\n",
       "      <td>2</td>\n",
       "      <td>27.0</td>\n",
       "    </tr>\n",
       "    <tr>\n",
       "      <th>887</th>\n",
       "      <td>female</td>\n",
       "      <td>1</td>\n",
       "      <td>19.0</td>\n",
       "    </tr>\n",
       "    <tr>\n",
       "      <th>888</th>\n",
       "      <td>female</td>\n",
       "      <td>3</td>\n",
       "      <td>NaN</td>\n",
       "    </tr>\n",
       "    <tr>\n",
       "      <th>889</th>\n",
       "      <td>male</td>\n",
       "      <td>1</td>\n",
       "      <td>26.0</td>\n",
       "    </tr>\n",
       "    <tr>\n",
       "      <th>890</th>\n",
       "      <td>male</td>\n",
       "      <td>3</td>\n",
       "      <td>32.0</td>\n",
       "    </tr>\n",
       "  </tbody>\n",
       "</table>\n",
       "<p>891 rows × 3 columns</p>\n",
       "</div>"
      ],
      "text/plain": [
       "        Sex  Pclass   Age\n",
       "0      male       3  22.0\n",
       "1    female       1  38.0\n",
       "2    female       3  26.0\n",
       "3    female       1  35.0\n",
       "4      male       3  35.0\n",
       "5      male       3   NaN\n",
       "6      male       1  54.0\n",
       "7      male       3   2.0\n",
       "8    female       3  27.0\n",
       "9    female       2  14.0\n",
       "10   female       3   4.0\n",
       "11   female       1  58.0\n",
       "12     male       3  20.0\n",
       "13     male       3  39.0\n",
       "14   female       3  14.0\n",
       "15   female       2  55.0\n",
       "16     male       3   2.0\n",
       "17     male       2   NaN\n",
       "18   female       3  31.0\n",
       "19   female       3   NaN\n",
       "20     male       2  35.0\n",
       "21     male       2  34.0\n",
       "22   female       3  15.0\n",
       "23     male       1  28.0\n",
       "24   female       3   8.0\n",
       "25   female       3  38.0\n",
       "26     male       3   NaN\n",
       "27     male       1  19.0\n",
       "28   female       3   NaN\n",
       "29     male       3   NaN\n",
       "..      ...     ...   ...\n",
       "861    male       2  21.0\n",
       "862  female       1  48.0\n",
       "863  female       3   NaN\n",
       "864    male       2  24.0\n",
       "865  female       2  42.0\n",
       "866  female       2  27.0\n",
       "867    male       1  31.0\n",
       "868    male       3   NaN\n",
       "869    male       3   4.0\n",
       "870    male       3  26.0\n",
       "871  female       1  47.0\n",
       "872    male       1  33.0\n",
       "873    male       3  47.0\n",
       "874  female       2  28.0\n",
       "875  female       3  15.0\n",
       "876    male       3  20.0\n",
       "877    male       3  19.0\n",
       "878    male       3   NaN\n",
       "879  female       1  56.0\n",
       "880  female       2  25.0\n",
       "881    male       3  33.0\n",
       "882  female       3  22.0\n",
       "883    male       2  28.0\n",
       "884    male       3  25.0\n",
       "885  female       3  39.0\n",
       "886    male       2  27.0\n",
       "887  female       1  19.0\n",
       "888  female       3   NaN\n",
       "889    male       1  26.0\n",
       "890    male       3  32.0\n",
       "\n",
       "[891 rows x 3 columns]"
      ]
     },
     "execution_count": 22,
     "metadata": {},
     "output_type": "execute_result"
    }
   ],
   "source": [
    "df[['Sex', 'Pclass', 'Age']]"
   ]
  },
  {
   "cell_type": "markdown",
   "metadata": {},
   "source": [
    "### Example using survey data"
   ]
  },
  {
   "cell_type": "markdown",
   "metadata": {},
   "source": [
    "Now, we are going to use an example with a survey. First, we need to load the csv "
   ]
  },
  {
   "cell_type": "code",
   "execution_count": 23,
   "metadata": {
    "collapsed": false
   },
   "outputs": [
    {
     "data": {
      "text/html": [
       "<div>\n",
       "<table border=\"1\" class=\"dataframe\">\n",
       "  <thead>\n",
       "    <tr style=\"text-align: right;\">\n",
       "      <th></th>\n",
       "      <th>gender</th>\n",
       "      <th>height</th>\n",
       "      <th>weight</th>\n",
       "      <th>shoeSize</th>\n",
       "      <th>shoeNums</th>\n",
       "      <th>schoolYear</th>\n",
       "      <th>pets</th>\n",
       "      <th>siblings</th>\n",
       "      <th>speed</th>\n",
       "      <th>cash</th>\n",
       "      <th>sleep</th>\n",
       "      <th>ageMother</th>\n",
       "      <th>ageFather</th>\n",
       "      <th>random</th>\n",
       "      <th>love</th>\n",
       "      <th>charity</th>\n",
       "    </tr>\n",
       "  </thead>\n",
       "  <tbody>\n",
       "    <tr>\n",
       "      <th>0</th>\n",
       "      <td>female</td>\n",
       "      <td>72</td>\n",
       "      <td>174</td>\n",
       "      <td>11.0</td>\n",
       "      <td>17</td>\n",
       "      <td>Sophomore</td>\n",
       "      <td>4</td>\n",
       "      <td>5</td>\n",
       "      <td>80</td>\n",
       "      <td>3</td>\n",
       "      <td>7.0</td>\n",
       "      <td>42</td>\n",
       "      <td>36</td>\n",
       "      <td>6</td>\n",
       "      <td>one</td>\n",
       "      <td>25</td>\n",
       "    </tr>\n",
       "    <tr>\n",
       "      <th>1</th>\n",
       "      <td>female</td>\n",
       "      <td>67</td>\n",
       "      <td>140</td>\n",
       "      <td>8.5</td>\n",
       "      <td>100</td>\n",
       "      <td>Sophomore</td>\n",
       "      <td>0</td>\n",
       "      <td>1</td>\n",
       "      <td>110</td>\n",
       "      <td>76</td>\n",
       "      <td>8.5</td>\n",
       "      <td>55</td>\n",
       "      <td>61</td>\n",
       "      <td>6</td>\n",
       "      <td>dozens</td>\n",
       "      <td>90</td>\n",
       "    </tr>\n",
       "    <tr>\n",
       "      <th>2</th>\n",
       "      <td>female</td>\n",
       "      <td>64</td>\n",
       "      <td>107</td>\n",
       "      <td>6.0</td>\n",
       "      <td>25</td>\n",
       "      <td>Sophomore</td>\n",
       "      <td>5</td>\n",
       "      <td>2</td>\n",
       "      <td>100</td>\n",
       "      <td>75</td>\n",
       "      <td>7.5</td>\n",
       "      <td>58</td>\n",
       "      <td>60</td>\n",
       "      <td>4</td>\n",
       "      <td>few</td>\n",
       "      <td>75</td>\n",
       "    </tr>\n",
       "    <tr>\n",
       "      <th>3</th>\n",
       "      <td>male</td>\n",
       "      <td>70</td>\n",
       "      <td>185</td>\n",
       "      <td>11.0</td>\n",
       "      <td>7</td>\n",
       "      <td>Sophomore</td>\n",
       "      <td>3</td>\n",
       "      <td>2</td>\n",
       "      <td>95</td>\n",
       "      <td>35</td>\n",
       "      <td>7.0</td>\n",
       "      <td>53</td>\n",
       "      <td>55</td>\n",
       "      <td>8</td>\n",
       "      <td>few</td>\n",
       "      <td>60</td>\n",
       "    </tr>\n",
       "    <tr>\n",
       "      <th>4</th>\n",
       "      <td>female</td>\n",
       "      <td>62</td>\n",
       "      <td>133</td>\n",
       "      <td>7.0</td>\n",
       "      <td>8</td>\n",
       "      <td>Sophomore</td>\n",
       "      <td>30</td>\n",
       "      <td>1</td>\n",
       "      <td>195</td>\n",
       "      <td>18</td>\n",
       "      <td>6.0</td>\n",
       "      <td>41</td>\n",
       "      <td>49</td>\n",
       "      <td>6</td>\n",
       "      <td>hundreds</td>\n",
       "      <td>70</td>\n",
       "    </tr>\n",
       "    <tr>\n",
       "      <th>5</th>\n",
       "      <td>female</td>\n",
       "      <td>65</td>\n",
       "      <td>136</td>\n",
       "      <td>6.5</td>\n",
       "      <td>10</td>\n",
       "      <td>Freshman</td>\n",
       "      <td>2</td>\n",
       "      <td>2</td>\n",
       "      <td>80</td>\n",
       "      <td>20</td>\n",
       "      <td>7.0</td>\n",
       "      <td>51</td>\n",
       "      <td>49</td>\n",
       "      <td>3</td>\n",
       "      <td>one</td>\n",
       "      <td>100</td>\n",
       "    </tr>\n",
       "    <tr>\n",
       "      <th>6</th>\n",
       "      <td>male</td>\n",
       "      <td>67</td>\n",
       "      <td>162</td>\n",
       "      <td>10.0</td>\n",
       "      <td>20</td>\n",
       "      <td>Sophomore</td>\n",
       "      <td>0</td>\n",
       "      <td>2</td>\n",
       "      <td>115</td>\n",
       "      <td>50</td>\n",
       "      <td>5.0</td>\n",
       "      <td>38</td>\n",
       "      <td>45</td>\n",
       "      <td>10</td>\n",
       "      <td>few</td>\n",
       "      <td>70</td>\n",
       "    </tr>\n",
       "    <tr>\n",
       "      <th>7</th>\n",
       "      <td>male</td>\n",
       "      <td>71</td>\n",
       "      <td>165</td>\n",
       "      <td>10.5</td>\n",
       "      <td>11</td>\n",
       "      <td>Sophomore</td>\n",
       "      <td>0</td>\n",
       "      <td>1</td>\n",
       "      <td>120</td>\n",
       "      <td>10</td>\n",
       "      <td>7.0</td>\n",
       "      <td>53</td>\n",
       "      <td>56</td>\n",
       "      <td>5</td>\n",
       "      <td>few</td>\n",
       "      <td>50</td>\n",
       "    </tr>\n",
       "    <tr>\n",
       "      <th>8</th>\n",
       "      <td>male</td>\n",
       "      <td>72</td>\n",
       "      <td>135</td>\n",
       "      <td>10.5</td>\n",
       "      <td>5</td>\n",
       "      <td>Freshman</td>\n",
       "      <td>0</td>\n",
       "      <td>2</td>\n",
       "      <td>80</td>\n",
       "      <td>70</td>\n",
       "      <td>8.0</td>\n",
       "      <td>52</td>\n",
       "      <td>53</td>\n",
       "      <td>7</td>\n",
       "      <td>dozens</td>\n",
       "      <td>65</td>\n",
       "    </tr>\n",
       "    <tr>\n",
       "      <th>9</th>\n",
       "      <td>female</td>\n",
       "      <td>66</td>\n",
       "      <td>148</td>\n",
       "      <td>8.5</td>\n",
       "      <td>15</td>\n",
       "      <td>Junior</td>\n",
       "      <td>0</td>\n",
       "      <td>1</td>\n",
       "      <td>85</td>\n",
       "      <td>20</td>\n",
       "      <td>7.0</td>\n",
       "      <td>55</td>\n",
       "      <td>58</td>\n",
       "      <td>8</td>\n",
       "      <td>one</td>\n",
       "      <td>10</td>\n",
       "    </tr>\n",
       "  </tbody>\n",
       "</table>\n",
       "</div>"
      ],
      "text/plain": [
       "   gender  height  weight  shoeSize  shoeNums schoolYear  pets  siblings  \\\n",
       "0  female      72     174      11.0        17  Sophomore     4         5   \n",
       "1  female      67     140       8.5       100  Sophomore     0         1   \n",
       "2  female      64     107       6.0        25  Sophomore     5         2   \n",
       "3    male      70     185      11.0         7  Sophomore     3         2   \n",
       "4  female      62     133       7.0         8  Sophomore    30         1   \n",
       "5  female      65     136       6.5        10   Freshman     2         2   \n",
       "6    male      67     162      10.0        20  Sophomore     0         2   \n",
       "7    male      71     165      10.5        11  Sophomore     0         1   \n",
       "8    male      72     135      10.5         5   Freshman     0         2   \n",
       "9  female      66     148       8.5        15     Junior     0         1   \n",
       "\n",
       "   speed  cash  sleep  ageMother  ageFather  random      love  charity  \n",
       "0     80     3    7.0         42         36       6       one       25  \n",
       "1    110    76    8.5         55         61       6    dozens       90  \n",
       "2    100    75    7.5         58         60       4       few       75  \n",
       "3     95    35    7.0         53         55       8       few       60  \n",
       "4    195    18    6.0         41         49       6  hundreds       70  \n",
       "5     80    20    7.0         51         49       3       one      100  \n",
       "6    115    50    5.0         38         45      10       few       70  \n",
       "7    120    10    7.0         53         56       5       few       50  \n",
       "8     80    70    8.0         52         53       7    dozens       65  \n",
       "9     85    20    7.0         55         58       8       one       10  "
      ]
     },
     "execution_count": 23,
     "metadata": {},
     "output_type": "execute_result"
    }
   ],
   "source": [
    "st = pd.read_csv('Stat100_2013fall_survey01.csv', header=0)\n",
    "\n",
    "# Returns first 10 entries\n"
   ]
  },
  {
   "cell_type": "markdown",
   "metadata": {},
   "source": [
    "This DataFrame contains various information about different people. Suppose we wanted to find the mean and median of the number of shoes of the first 10 people. How would we do this?"
   ]
  },
  {
   "cell_type": "markdown",
   "metadata": {},
   "source": [
    "First we would want to view ONLY the shoeNums column of the first 10 people. Write the code for that here "
   ]
  },
  {
   "cell_type": "code",
   "execution_count": 24,
   "metadata": {
    "collapsed": false
   },
   "outputs": [
    {
     "name": "stdout",
     "output_type": "stream",
     "text": [
      "1    100\n",
      "2     25\n",
      "3      7\n",
      "4      8\n",
      "5     10\n",
      "6     20\n",
      "7     11\n",
      "8      5\n",
      "9     15\n",
      "Name: shoeNums, dtype: int64\n"
     ]
    }
   ],
   "source": []
  },
  {
   "cell_type": "markdown",
   "metadata": {},
   "source": [
    "Then, we would want to print the mean and median of this data. "
   ]
  },
  {
   "cell_type": "code",
   "execution_count": 25,
   "metadata": {
    "collapsed": false
   },
   "outputs": [
    {
     "name": "stdout",
     "output_type": "stream",
     "text": [
      "MEAN: 15.0342052314\n",
      "MEDIAN: 12.0\n"
     ]
    }
   ],
   "source": []
  },
  {
   "cell_type": "markdown",
   "metadata": {},
   "source": [
    "### Querying DataFrames"
   ]
  },
  {
   "cell_type": "markdown",
   "metadata": {},
   "source": [
    "Just as we discussed above in the Series section, we can pass in boolean arguments to query for data which satisfies a description.\n",
    "\n",
    "For instance, let's say we want to look at every passenger of the Titanic who was over the age of 70, we could do this:"
   ]
  },
  {
   "cell_type": "code",
   "execution_count": 26,
   "metadata": {
    "collapsed": false
   },
   "outputs": [
    {
     "data": {
      "text/html": [
       "<div>\n",
       "<table border=\"1\" class=\"dataframe\">\n",
       "  <thead>\n",
       "    <tr style=\"text-align: right;\">\n",
       "      <th></th>\n",
       "      <th>PassengerId</th>\n",
       "      <th>Survived</th>\n",
       "      <th>Pclass</th>\n",
       "      <th>Name</th>\n",
       "      <th>Sex</th>\n",
       "      <th>Age</th>\n",
       "      <th>SibSp</th>\n",
       "      <th>Parch</th>\n",
       "      <th>Ticket</th>\n",
       "      <th>Fare</th>\n",
       "      <th>Cabin</th>\n",
       "      <th>Embarked</th>\n",
       "    </tr>\n",
       "  </thead>\n",
       "  <tbody>\n",
       "    <tr>\n",
       "      <th>96</th>\n",
       "      <td>97</td>\n",
       "      <td>0</td>\n",
       "      <td>1</td>\n",
       "      <td>Goldschmidt, Mr. George B</td>\n",
       "      <td>male</td>\n",
       "      <td>71.0</td>\n",
       "      <td>0</td>\n",
       "      <td>0</td>\n",
       "      <td>PC 17754</td>\n",
       "      <td>34.6542</td>\n",
       "      <td>A5</td>\n",
       "      <td>C</td>\n",
       "    </tr>\n",
       "    <tr>\n",
       "      <th>116</th>\n",
       "      <td>117</td>\n",
       "      <td>0</td>\n",
       "      <td>3</td>\n",
       "      <td>Connors, Mr. Patrick</td>\n",
       "      <td>male</td>\n",
       "      <td>70.5</td>\n",
       "      <td>0</td>\n",
       "      <td>0</td>\n",
       "      <td>370369</td>\n",
       "      <td>7.7500</td>\n",
       "      <td>NaN</td>\n",
       "      <td>Q</td>\n",
       "    </tr>\n",
       "    <tr>\n",
       "      <th>493</th>\n",
       "      <td>494</td>\n",
       "      <td>0</td>\n",
       "      <td>1</td>\n",
       "      <td>Artagaveytia, Mr. Ramon</td>\n",
       "      <td>male</td>\n",
       "      <td>71.0</td>\n",
       "      <td>0</td>\n",
       "      <td>0</td>\n",
       "      <td>PC 17609</td>\n",
       "      <td>49.5042</td>\n",
       "      <td>NaN</td>\n",
       "      <td>C</td>\n",
       "    </tr>\n",
       "    <tr>\n",
       "      <th>630</th>\n",
       "      <td>631</td>\n",
       "      <td>1</td>\n",
       "      <td>1</td>\n",
       "      <td>Barkworth, Mr. Algernon Henry Wilson</td>\n",
       "      <td>male</td>\n",
       "      <td>80.0</td>\n",
       "      <td>0</td>\n",
       "      <td>0</td>\n",
       "      <td>27042</td>\n",
       "      <td>30.0000</td>\n",
       "      <td>A23</td>\n",
       "      <td>S</td>\n",
       "    </tr>\n",
       "    <tr>\n",
       "      <th>851</th>\n",
       "      <td>852</td>\n",
       "      <td>0</td>\n",
       "      <td>3</td>\n",
       "      <td>Svensson, Mr. Johan</td>\n",
       "      <td>male</td>\n",
       "      <td>74.0</td>\n",
       "      <td>0</td>\n",
       "      <td>0</td>\n",
       "      <td>347060</td>\n",
       "      <td>7.7750</td>\n",
       "      <td>NaN</td>\n",
       "      <td>S</td>\n",
       "    </tr>\n",
       "  </tbody>\n",
       "</table>\n",
       "</div>"
      ],
      "text/plain": [
       "     PassengerId  Survived  Pclass                                  Name  \\\n",
       "96            97         0       1             Goldschmidt, Mr. George B   \n",
       "116          117         0       3                  Connors, Mr. Patrick   \n",
       "493          494         0       1               Artagaveytia, Mr. Ramon   \n",
       "630          631         1       1  Barkworth, Mr. Algernon Henry Wilson   \n",
       "851          852         0       3                   Svensson, Mr. Johan   \n",
       "\n",
       "      Sex   Age  SibSp  Parch    Ticket     Fare Cabin Embarked  \n",
       "96   male  71.0      0      0  PC 17754  34.6542    A5        C  \n",
       "116  male  70.5      0      0    370369   7.7500   NaN        Q  \n",
       "493  male  71.0      0      0  PC 17609  49.5042   NaN        C  \n",
       "630  male  80.0      0      0     27042  30.0000   A23        S  \n",
       "851  male  74.0      0      0    347060   7.7750   NaN        S  "
      ]
     },
     "execution_count": 26,
     "metadata": {},
     "output_type": "execute_result"
    }
   ],
   "source": [
    "df[df.Age > 70]"
   ]
  },
  {
   "cell_type": "markdown",
   "metadata": {},
   "source": [
    "DataFrames allow us to run multiple queries on our data sets as well by either using parenthesis and an & sign, or by passing in two expressions in square brackets.\n",
    "\n",
    "For example, we can pull all female passengers over the age of 60 by running this:"
   ]
  },
  {
   "cell_type": "code",
   "execution_count": null,
   "metadata": {
    "collapsed": false
   },
   "outputs": [],
   "source": [
    "df[(df.Sex == 'female') & (df.Age > 60)]\n",
    "# or equivalently\n",
    "# df[df.Sex == 'female'][df.Age > 60]"
   ]
  },
  {
   "cell_type": "markdown",
   "metadata": {},
   "source": [
    "And we can further specify which additional column names we which to view by again passing a list of column names."
   ]
  },
  {
   "cell_type": "code",
   "execution_count": null,
   "metadata": {
    "collapsed": false
   },
   "outputs": [],
   "source": [
    "df[(df.Sex == 'female') & (df.Age > 60)] [['Age','Sex','Ticket','Fare']]"
   ]
  },
  {
   "cell_type": "markdown",
   "metadata": {},
   "source": [
    "If we were curious in investigating all the Null values for Age we discovered earlier, we can easily grab them. "
   ]
  },
  {
   "cell_type": "code",
   "execution_count": null,
   "metadata": {
    "collapsed": false
   },
   "outputs": [],
   "source": [
    "df[df.Age.isnull()][['Age','Sex','Pclass']]"
   ]
  },
  {
   "cell_type": "markdown",
   "metadata": {},
   "source": [
    "Going back to our example with the number of shoes, how would we identify all the female sophmores who sleep more than 9 hours a day?"
   ]
  },
  {
   "cell_type": "code",
   "execution_count": null,
   "metadata": {
    "collapsed": true
   },
   "outputs": [],
   "source": []
  },
  {
   "cell_type": "markdown",
   "metadata": {},
   "source": [
    "***"
   ]
  },
  {
   "cell_type": "markdown",
   "metadata": {
    "collapsed": true
   },
   "source": [
    "# Data Visualization"
   ]
  },
  {
   "cell_type": "markdown",
   "metadata": {},
   "source": [
    "\"A fundamental part of the data scientist’s toolkit is data visualization. Although it is\n",
    "very easy to create visualizations, it’s much harder to produce good ones.\n",
    "There are two primary uses for data visualization:\n",
    "* To explore data\n",
    "* To communicate data\"\n",
    "\n",
    "-Joel Grus, Data Science from Scratch"
   ]
  },
  {
   "cell_type": "code",
   "execution_count": 27,
   "metadata": {
    "collapsed": false
   },
   "outputs": [
    {
     "data": {
      "image/jpeg": "[encoded data removed]",
      "text/html": [
       "\n",
       "        <iframe\n",
       "            width=\"400\"\n",
       "            height=\"300\"\n",
       "            src=\"https://www.youtube.com/embed/5Zg-C8AAIGg?start=18\"\n",
       "            frameborder=\"0\"\n",
       "            allowfullscreen\n",
       "        ></iframe>\n",
       "        "
      ],
      "text/plain": [
       "<IPython.lib.display.YouTubeVideo at 0x7f03619ff090>"
      ]
     },
     "execution_count": 27,
     "metadata": {},
     "output_type": "execute_result"
    }
   ],
   "source": [
    "from IPython.display import YouTubeVideo\n",
    "YouTubeVideo('5Zg-C8AAIGg', start=18) "
   ]
  },
  {
   "cell_type": "markdown",
   "metadata": {},
   "source": [
    "There are many tools that we can use to visualize data, however one of the most widely used tools is the [matplotlib](http://matplotlib.org/) library. While other libraries such as [d3.js](https://d3js.org/) are more commonly used for web visualizations, the matplotlib.pyplot module does an excellent job at quickly producing bar charts, line charts, and scatterplots in Python.\n",
    "\n",
    "To begin, we will first import the pyplot module from matplotlib."
   ]
  },
  {
   "cell_type": "code",
   "execution_count": 28,
   "metadata": {
    "collapsed": false,
    "scrolled": true
   },
   "outputs": [],
   "source": [
    "%matplotlib inline\n",
    "\n",
    "import matplotlib\n",
    "import matplotlib.pyplot as plt\n"
   ]
  },
  {
   "cell_type": "markdown",
   "metadata": {},
   "source": [
    "## Bar Charts"
   ]
  },
  {
   "cell_type": "markdown",
   "metadata": {},
   "source": [
    "A bar chart can be a very helpful, simple visualization when you need to illustrate quantities of a discrete set of items. With matplotlib, we can take two lists, labels and heights, and easily create a bar chart.\n",
    "\n",
    "We can use the plt.bar() method to create bargraphs. This function takes in a list of xcoordinates to start each bar, and a list of corresponding heights for each bar."
   ]
  },
  {
   "cell_type": "markdown",
   "metadata": {},
   "source": [
    "The following is an example of how we could create a simple bargraph to visualize the number of academy awards won by movies."
   ]
  },
  {
   "cell_type": "code",
   "execution_count": 28,
   "metadata": {
    "collapsed": false
   },
   "outputs": [
    {
     "name": "stdout",
     "output_type": "stream",
     "text": [
      "[0.1, 1.1, 2.1, 3.1, 4.1]\n"
     ]
    },
    {
     "data": {
      "image/png": "[encoded data removed]",
      "text/plain": [
       "<matplotlib.figure.Figure at 0x7efd45b59350>"
      ]
     },
     "metadata": {},
     "output_type": "display_data"
    }
   ],
   "source": [
    "# These are movies we wish to plot, as well as the number of awards won\n",
    "movies = [\"Annie Hall\", \"Ben-Hur\", \"Casablanca\", \"Gandhi\", \"West Side Story\"]\n",
    "num_oscars = [5, 11, 3, 8, 10]\n",
    "\n",
    "'''\n",
    "Bars start from xcoordinate 0 by default, so to make the graph look nicer, we can add\n",
    "0.1 to each bar xcoordinate to shift them a bit to the right.\n",
    "\n",
    "One way to do this is to use a list comprehension along with a range from 0 to the length\n",
    "of movies, and yield a list of each index + 0.1.\n",
    "'''\n",
    "xcoords = [i+0.1  for i in range(0, len(movies))]\n",
    "print xcoords\n",
    "\n",
    "\n"
   ]
  },
  {
   "cell_type": "markdown",
   "metadata": {},
   "source": [
    "Bargraphs are also great for creating histograms, graphs in which the y-axis illustrates frequency of the x-axis' values. \n",
    "\n",
    "Below is an example of how to create a histogram for exam distributions. In this example, we use a few other parameters in our plot. When we call plt.bar(), we pass in a bar width parameter, and we also call plt.axis() to change the range of x and y-coordinates shown."
   ]
  },
  {
   "cell_type": "code",
   "execution_count": 29,
   "metadata": {
    "collapsed": false
   },
   "outputs": [
    {
     "name": "stdout",
     "output_type": "stream",
     "text": [
      "[0, 100, 70, 80, 90, 60]\n",
      "[2, 1, 3, 4, 2, 1]\n"
     ]
    },
    {
     "data": {
      "image/png": "[encoded data removed]",
      "text/plain": [
       "<matplotlib.figure.Figure at 0x7efd45b45d50>"
      ]
     },
     "metadata": {},
     "output_type": "display_data"
    }
   ],
   "source": [
    "# Dictionary like structure which countains a count of the frequency of something\n",
    "from collections import Counter\n",
    "\n",
    "grades = [83,95,91,87,70,0,85,82,100,67,73,77,0]\n",
    "\n",
    "# The lambda keyword creates quick functions\n",
    "# dec is a function which takes input grade and rounds it to the lowest nearest multiple of 10 \n",
    "dec = lambda grade: (grade // 10) * 10\n",
    "\n",
    "# This creates a dictionary of the frequency count of grades in each percentage range by 10's\n",
    "histogram = Counter(dec(grade) for grade in grades)\n",
    "print histogram.keys() # Retrieves all the keys\n",
    "print histogram.values() # Retrieves frequencies\n",
    "\n",
    "# We now create our graph. Note that we are scooting over the xcoords by 4 to make it look nice\n",
    "plt.bar([x - 4 for x in histogram.keys()],\n",
    "       histogram.values(),\n",
    "       8) # We are passing in a value for the optional bar width parameter\n"
   ]
  },
  {
   "cell_type": "markdown",
   "metadata": {},
   "source": [
    "### Line Charts"
   ]
  },
  {
   "cell_type": "markdown",
   "metadata": {},
   "source": [
    "Line charts can be very useful in illustrating trends, and be very useful for visualizing data. We can use the plt.plot() method in order to create line charts with Matplotlib. \n",
    "\n",
    "Below is an example of a fake stock market chart comparing two companies:"
   ]
  },
  {
   "cell_type": "code",
   "execution_count": 30,
   "metadata": {
    "collapsed": false
   },
   "outputs": [
    {
     "data": {
      "image/png": "[encoded data removed]",
      "text/plain": [
       "<matplotlib.figure.Figure at 0x7efd431e3910>"
      ]
     },
     "metadata": {},
     "output_type": "display_data"
    }
   ],
   "source": [
    "# Fake company stock data\n",
    "company1 = [53.0, 52.2, 57.3, 60.0, 62.2, 54.5, 61.1]\n",
    "company2 = [42.0, 43.2, 47.4, 49.0, 55.0, 57.2, 60.0]\n",
    "years = [2010, 2011, 2012, 2013, 2014, 2015, 2016]\n",
    "\n",
    "# The xcoords are the same for both, so we can just grab them for company 1\n",
    "xcoords = [i for i in range(0, len(company1))]\n",
    "\n"
   ]
  },
  {
   "cell_type": "markdown",
   "metadata": {},
   "source": [
    "### Scatter Plots"
   ]
  },
  {
   "cell_type": "markdown",
   "metadata": {},
   "source": [
    "Finally, scatter plots can be useful for illustrating the relationship between two variables. We can use the plt.scatter() function to create scatter plots in matplotlib.\n",
    "\n",
    "Below is an example of a scatter plot showing the relatinoship between number of online friends vs the number of minutes spent on a social media website."
   ]
  },
  {
   "cell_type": "code",
   "execution_count": 31,
   "metadata": {
    "collapsed": false
   },
   "outputs": [
    {
     "data": {
      "image/png": "[encoded data removed]",
      "text/plain": [
       "<matplotlib.figure.Figure at 0x7efd42f12a90>"
      ]
     },
     "metadata": {},
     "output_type": "display_data"
    }
   ],
   "source": [
    "friends = [ 70, 65, 72, 63, 71, 64, 60, 64, 67]\n",
    "minutes = [175, 170, 205, 120, 220, 130, 105, 145, 190]\n",
    "labels = ['a', 'b', 'c', 'd', 'e', 'f', 'g', 'h', 'i'] # A list of arbitrary labels for the scatter points\n",
    "\n",
    "# Creates scatter plot\n",
    "\n",
    "\n",
    "# label each point. Zipping creates a list of tuples that looks like [('a', 70, 175), ('b', 65, 170)...] etc.\n",
    "for label, friend_count, minute_count in zip(labels, friends, minutes):\n",
    "    plt.annotate(label,\n",
    "    xy=(friend_count, minute_count), # put the label with its point\n",
    "    xytext=(5, -5), # offsets the label by +5x and -5y\n",
    "    textcoords='offset points') # tells matplotlib that the xytext sh\n",
    "\n",
    "    \n",
    "plt.title(\"Daily Minutes vs. Number of Friends\")\n",
    "plt.xlabel(\"# of friends\")\n",
    "plt.ylabel(\"daily minutes spent on the site\")\n",
    "plt.show()"
   ]
  },
  {
   "cell_type": "code",
   "execution_count": 32,
   "metadata": {
    "collapsed": false
   },
   "outputs": [
    {
     "data": {
      "image/png": "[encoded data removed]",
      "text/plain": [
       "<matplotlib.figure.Figure at 0x7efd4309ab10>"
      ]
     },
     "metadata": {},
     "output_type": "display_data"
    }
   ],
   "source": [
    "test_1_grades = [ 99, 90, 85, 97, 80]\n",
    "test_2_grades = [100, 85, 60, 90, 70]\n",
    "plt.scatter(test_1_grades, test_2_grades)\n",
    "plt.title(\"Axes Aren't Comparable\")\n",
    "plt.xlabel(\"test 1 grade\")\n",
    "plt.ylabel(\"test 2 grade\")\n",
    "plt.show()"
   ]
  },
  {
   "cell_type": "markdown",
   "metadata": {},
   "source": [
    "## Adding more control to our display"
   ]
  },
  {
   "cell_type": "markdown",
   "metadata": {},
   "source": [
    "As of now, we have been using <i>implicit</i> figure and axis creation in our plots. This has sufficed for creating quick and easy graphs, but won't allow us to create richer visualizations. Let's see how handling Figures, subplots, and axis explicitly can give us more control over our plots."
   ]
  },
  {
   "cell_type": "markdown",
   "metadata": {},
   "source": [
    "We will take the previous Stock Trends data from before, and try to display them separately."
   ]
  },
  {
   "cell_type": "code",
   "execution_count": 34,
   "metadata": {
    "collapsed": false
   },
   "outputs": [
    {
     "data": {
      "text/plain": [
       "<matplotlib.text.Text at 0x7efd42a7c990>"
      ]
     },
     "execution_count": 34,
     "metadata": {},
     "output_type": "execute_result"
    },
    {
     "data": {
      "image/png": "[encoded data removed]",
      "text/plain": [
       "<matplotlib.figure.Figure at 0x7efd42dee710>"
      ]
     },
     "metadata": {},
     "output_type": "display_data"
    }
   ],
   "source": [
    "\n"
   ]
  },
  {
   "cell_type": "markdown",
   "metadata": {},
   "source": [
    "# Seaborn"
   ]
  },
  {
   "cell_type": "markdown",
   "metadata": {},
   "source": [
    "While Matplotlib is an extremley powerful tool for visualizing datasets in Python, the API can be daunting for beginners. In addition, it takes a considerable amount of work to produce aesthetically pleasing visualizations. Many libraries have been created to help remedy this problem, but in this notebook we will get a taste of the most popular of them, Seaborn.\n",
    "\n",
    "Below, we will take a visualization that we had made before, and see what the Seaborn library can do in improving our visualizations.\n"
   ]
  },
  {
   "cell_type": "code",
   "execution_count": 35,
   "metadata": {
    "collapsed": true
   },
   "outputs": [],
   "source": [
    "import seaborn as sns"
   ]
  },
  {
   "cell_type": "code",
   "execution_count": 36,
   "metadata": {
    "collapsed": false
   },
   "outputs": [
    {
     "name": "stdout",
     "output_type": "stream",
     "text": [
      "[0.1, 1.1, 2.1, 3.1, 4.1]\n"
     ]
    },
    {
     "data": {
      "image/png": "[encoded data removed]",
      "text/plain": [
       "<matplotlib.figure.Figure at 0x7efd45afa550>"
      ]
     },
     "metadata": {},
     "output_type": "display_data"
    }
   ],
   "source": [
    "# These are movies we wish to plot, as well as the number of awards won\n",
    "movies = [\"Annie Hall\", \"Ben-Hur\", \"Casablanca\", \"Gandhi\", \"West Side Story\"]\n",
    "num_oscars = [5, 11, 3, 8, 10]\n",
    "\n",
    "'''\n",
    "Bars start from xcoordinate 0 by default, so to make the graph look nicer, we can add\n",
    "0.1 to each bar xcoordinate to shift them a bit to the right.\n",
    "\n",
    "One way to do this is to use a list comprehension along with a range from 0 to the length\n",
    "of movies, and yield a list of each index + 0.1.\n",
    "'''\n",
    "xcoords = [i+0.1  for i in range(0, len(movies))]\n",
    "print xcoords\n",
    "\n",
    "# plot bars with left x-coordinates [xcoords], heights [num_oscars]\n",
    "plt.bar(xcoords, num_oscars)\n",
    "\n",
    "# We can add titles and x/y labels by using the following plt methods\n",
    "plt.xlabel('Movies')\n",
    "plt.ylabel(\"# of Academy Awards\")\n",
    "plt.title(\"My Favorite Movies\")\n",
    "\n",
    "# To add a label for each bar, we can use .xticks with a list of xcoordinates and strings\n",
    "# We move over the xcoordinates by 0.5 this time just to properly center them\n",
    "plt.xticks([i + 0.5 for i in range(0, len(movies))], movies)\n",
    "\n",
    "#Let's remove the top and right axis \n",
    "sns.despine()\n",
    "\n",
    "#I'm showing you the graph in an talk, so let's set that context\n",
    "sns.set_context(\"notebook\")\n",
    "\n",
    "plt.show()"
   ]
  },
  {
   "cell_type": "markdown",
   "metadata": {},
   "source": [
    "# Putting it all together"
   ]
  },
  {
   "cell_type": "markdown",
   "metadata": {},
   "source": [
    "We've seen that Seaborn(Matplotlib) and Pandas has given us an expansive toolbox in working with data. Let's try to apply what we have learned to a dataset regarding resturant tips."
   ]
  },
  {
   "cell_type": "code",
   "execution_count": 37,
   "metadata": {
    "collapsed": false
   },
   "outputs": [
    {
     "data": {
      "text/html": [
       "<div>\n",
       "<table border=\"1\" class=\"dataframe\">\n",
       "  <thead>\n",
       "    <tr style=\"text-align: right;\">\n",
       "      <th></th>\n",
       "      <th>totbill</th>\n",
       "      <th>tip</th>\n",
       "      <th>sex</th>\n",
       "      <th>smoker</th>\n",
       "      <th>day</th>\n",
       "      <th>time</th>\n",
       "      <th>size</th>\n",
       "    </tr>\n",
       "  </thead>\n",
       "  <tbody>\n",
       "    <tr>\n",
       "      <th>0</th>\n",
       "      <td>16.99</td>\n",
       "      <td>1.01</td>\n",
       "      <td>F</td>\n",
       "      <td>No</td>\n",
       "      <td>Sun</td>\n",
       "      <td>Night</td>\n",
       "      <td>2</td>\n",
       "    </tr>\n",
       "    <tr>\n",
       "      <th>1</th>\n",
       "      <td>10.34</td>\n",
       "      <td>1.66</td>\n",
       "      <td>M</td>\n",
       "      <td>No</td>\n",
       "      <td>Sun</td>\n",
       "      <td>Night</td>\n",
       "      <td>3</td>\n",
       "    </tr>\n",
       "    <tr>\n",
       "      <th>2</th>\n",
       "      <td>21.01</td>\n",
       "      <td>3.50</td>\n",
       "      <td>M</td>\n",
       "      <td>No</td>\n",
       "      <td>Sun</td>\n",
       "      <td>Night</td>\n",
       "      <td>3</td>\n",
       "    </tr>\n",
       "    <tr>\n",
       "      <th>3</th>\n",
       "      <td>23.68</td>\n",
       "      <td>3.31</td>\n",
       "      <td>M</td>\n",
       "      <td>No</td>\n",
       "      <td>Sun</td>\n",
       "      <td>Night</td>\n",
       "      <td>2</td>\n",
       "    </tr>\n",
       "    <tr>\n",
       "      <th>4</th>\n",
       "      <td>24.59</td>\n",
       "      <td>3.61</td>\n",
       "      <td>F</td>\n",
       "      <td>No</td>\n",
       "      <td>Sun</td>\n",
       "      <td>Night</td>\n",
       "      <td>4</td>\n",
       "    </tr>\n",
       "    <tr>\n",
       "      <th>5</th>\n",
       "      <td>25.29</td>\n",
       "      <td>4.71</td>\n",
       "      <td>M</td>\n",
       "      <td>No</td>\n",
       "      <td>Sun</td>\n",
       "      <td>Night</td>\n",
       "      <td>4</td>\n",
       "    </tr>\n",
       "    <tr>\n",
       "      <th>6</th>\n",
       "      <td>8.77</td>\n",
       "      <td>2.00</td>\n",
       "      <td>M</td>\n",
       "      <td>No</td>\n",
       "      <td>Sun</td>\n",
       "      <td>Night</td>\n",
       "      <td>2</td>\n",
       "    </tr>\n",
       "    <tr>\n",
       "      <th>7</th>\n",
       "      <td>26.88</td>\n",
       "      <td>3.12</td>\n",
       "      <td>M</td>\n",
       "      <td>No</td>\n",
       "      <td>Sun</td>\n",
       "      <td>Night</td>\n",
       "      <td>4</td>\n",
       "    </tr>\n",
       "    <tr>\n",
       "      <th>8</th>\n",
       "      <td>15.04</td>\n",
       "      <td>1.96</td>\n",
       "      <td>M</td>\n",
       "      <td>No</td>\n",
       "      <td>Sun</td>\n",
       "      <td>Night</td>\n",
       "      <td>2</td>\n",
       "    </tr>\n",
       "    <tr>\n",
       "      <th>9</th>\n",
       "      <td>14.78</td>\n",
       "      <td>3.23</td>\n",
       "      <td>M</td>\n",
       "      <td>No</td>\n",
       "      <td>Sun</td>\n",
       "      <td>Night</td>\n",
       "      <td>2</td>\n",
       "    </tr>\n",
       "    <tr>\n",
       "      <th>10</th>\n",
       "      <td>10.27</td>\n",
       "      <td>1.71</td>\n",
       "      <td>M</td>\n",
       "      <td>No</td>\n",
       "      <td>Sun</td>\n",
       "      <td>Night</td>\n",
       "      <td>2</td>\n",
       "    </tr>\n",
       "    <tr>\n",
       "      <th>11</th>\n",
       "      <td>35.26</td>\n",
       "      <td>5.00</td>\n",
       "      <td>F</td>\n",
       "      <td>No</td>\n",
       "      <td>Sun</td>\n",
       "      <td>Night</td>\n",
       "      <td>4</td>\n",
       "    </tr>\n",
       "    <tr>\n",
       "      <th>12</th>\n",
       "      <td>15.42</td>\n",
       "      <td>1.57</td>\n",
       "      <td>M</td>\n",
       "      <td>No</td>\n",
       "      <td>Sun</td>\n",
       "      <td>Night</td>\n",
       "      <td>2</td>\n",
       "    </tr>\n",
       "    <tr>\n",
       "      <th>13</th>\n",
       "      <td>18.43</td>\n",
       "      <td>3.00</td>\n",
       "      <td>M</td>\n",
       "      <td>No</td>\n",
       "      <td>Sun</td>\n",
       "      <td>Night</td>\n",
       "      <td>4</td>\n",
       "    </tr>\n",
       "    <tr>\n",
       "      <th>14</th>\n",
       "      <td>14.83</td>\n",
       "      <td>3.02</td>\n",
       "      <td>F</td>\n",
       "      <td>No</td>\n",
       "      <td>Sun</td>\n",
       "      <td>Night</td>\n",
       "      <td>2</td>\n",
       "    </tr>\n",
       "    <tr>\n",
       "      <th>15</th>\n",
       "      <td>21.58</td>\n",
       "      <td>3.92</td>\n",
       "      <td>M</td>\n",
       "      <td>No</td>\n",
       "      <td>Sun</td>\n",
       "      <td>Night</td>\n",
       "      <td>2</td>\n",
       "    </tr>\n",
       "    <tr>\n",
       "      <th>16</th>\n",
       "      <td>10.33</td>\n",
       "      <td>1.67</td>\n",
       "      <td>F</td>\n",
       "      <td>No</td>\n",
       "      <td>Sun</td>\n",
       "      <td>Night</td>\n",
       "      <td>3</td>\n",
       "    </tr>\n",
       "    <tr>\n",
       "      <th>17</th>\n",
       "      <td>16.29</td>\n",
       "      <td>3.71</td>\n",
       "      <td>M</td>\n",
       "      <td>No</td>\n",
       "      <td>Sun</td>\n",
       "      <td>Night</td>\n",
       "      <td>3</td>\n",
       "    </tr>\n",
       "    <tr>\n",
       "      <th>18</th>\n",
       "      <td>16.97</td>\n",
       "      <td>3.50</td>\n",
       "      <td>F</td>\n",
       "      <td>No</td>\n",
       "      <td>Sun</td>\n",
       "      <td>Night</td>\n",
       "      <td>3</td>\n",
       "    </tr>\n",
       "    <tr>\n",
       "      <th>19</th>\n",
       "      <td>20.65</td>\n",
       "      <td>3.35</td>\n",
       "      <td>M</td>\n",
       "      <td>No</td>\n",
       "      <td>Sat</td>\n",
       "      <td>Night</td>\n",
       "      <td>3</td>\n",
       "    </tr>\n",
       "    <tr>\n",
       "      <th>20</th>\n",
       "      <td>17.92</td>\n",
       "      <td>4.08</td>\n",
       "      <td>M</td>\n",
       "      <td>No</td>\n",
       "      <td>Sat</td>\n",
       "      <td>Night</td>\n",
       "      <td>2</td>\n",
       "    </tr>\n",
       "    <tr>\n",
       "      <th>21</th>\n",
       "      <td>20.29</td>\n",
       "      <td>2.75</td>\n",
       "      <td>F</td>\n",
       "      <td>No</td>\n",
       "      <td>Sat</td>\n",
       "      <td>Night</td>\n",
       "      <td>2</td>\n",
       "    </tr>\n",
       "    <tr>\n",
       "      <th>22</th>\n",
       "      <td>15.77</td>\n",
       "      <td>2.23</td>\n",
       "      <td>F</td>\n",
       "      <td>No</td>\n",
       "      <td>Sat</td>\n",
       "      <td>Night</td>\n",
       "      <td>2</td>\n",
       "    </tr>\n",
       "    <tr>\n",
       "      <th>23</th>\n",
       "      <td>39.42</td>\n",
       "      <td>7.58</td>\n",
       "      <td>M</td>\n",
       "      <td>No</td>\n",
       "      <td>Sat</td>\n",
       "      <td>Night</td>\n",
       "      <td>4</td>\n",
       "    </tr>\n",
       "    <tr>\n",
       "      <th>24</th>\n",
       "      <td>19.82</td>\n",
       "      <td>3.18</td>\n",
       "      <td>M</td>\n",
       "      <td>No</td>\n",
       "      <td>Sat</td>\n",
       "      <td>Night</td>\n",
       "      <td>2</td>\n",
       "    </tr>\n",
       "    <tr>\n",
       "      <th>25</th>\n",
       "      <td>17.81</td>\n",
       "      <td>2.34</td>\n",
       "      <td>M</td>\n",
       "      <td>No</td>\n",
       "      <td>Sat</td>\n",
       "      <td>Night</td>\n",
       "      <td>4</td>\n",
       "    </tr>\n",
       "    <tr>\n",
       "      <th>26</th>\n",
       "      <td>13.37</td>\n",
       "      <td>2.00</td>\n",
       "      <td>M</td>\n",
       "      <td>No</td>\n",
       "      <td>Sat</td>\n",
       "      <td>Night</td>\n",
       "      <td>2</td>\n",
       "    </tr>\n",
       "    <tr>\n",
       "      <th>27</th>\n",
       "      <td>12.69</td>\n",
       "      <td>2.00</td>\n",
       "      <td>M</td>\n",
       "      <td>No</td>\n",
       "      <td>Sat</td>\n",
       "      <td>Night</td>\n",
       "      <td>2</td>\n",
       "    </tr>\n",
       "    <tr>\n",
       "      <th>28</th>\n",
       "      <td>21.70</td>\n",
       "      <td>4.30</td>\n",
       "      <td>M</td>\n",
       "      <td>No</td>\n",
       "      <td>Sat</td>\n",
       "      <td>Night</td>\n",
       "      <td>2</td>\n",
       "    </tr>\n",
       "    <tr>\n",
       "      <th>29</th>\n",
       "      <td>19.65</td>\n",
       "      <td>3.00</td>\n",
       "      <td>F</td>\n",
       "      <td>No</td>\n",
       "      <td>Sat</td>\n",
       "      <td>Night</td>\n",
       "      <td>2</td>\n",
       "    </tr>\n",
       "    <tr>\n",
       "      <th>...</th>\n",
       "      <td>...</td>\n",
       "      <td>...</td>\n",
       "      <td>...</td>\n",
       "      <td>...</td>\n",
       "      <td>...</td>\n",
       "      <td>...</td>\n",
       "      <td>...</td>\n",
       "    </tr>\n",
       "    <tr>\n",
       "      <th>214</th>\n",
       "      <td>28.17</td>\n",
       "      <td>6.50</td>\n",
       "      <td>F</td>\n",
       "      <td>Yes</td>\n",
       "      <td>Sat</td>\n",
       "      <td>Night</td>\n",
       "      <td>3</td>\n",
       "    </tr>\n",
       "    <tr>\n",
       "      <th>215</th>\n",
       "      <td>12.90</td>\n",
       "      <td>1.10</td>\n",
       "      <td>F</td>\n",
       "      <td>Yes</td>\n",
       "      <td>Sat</td>\n",
       "      <td>Night</td>\n",
       "      <td>2</td>\n",
       "    </tr>\n",
       "    <tr>\n",
       "      <th>216</th>\n",
       "      <td>28.15</td>\n",
       "      <td>3.00</td>\n",
       "      <td>M</td>\n",
       "      <td>Yes</td>\n",
       "      <td>Sat</td>\n",
       "      <td>Night</td>\n",
       "      <td>5</td>\n",
       "    </tr>\n",
       "    <tr>\n",
       "      <th>217</th>\n",
       "      <td>11.59</td>\n",
       "      <td>1.50</td>\n",
       "      <td>M</td>\n",
       "      <td>Yes</td>\n",
       "      <td>Sat</td>\n",
       "      <td>Night</td>\n",
       "      <td>2</td>\n",
       "    </tr>\n",
       "    <tr>\n",
       "      <th>218</th>\n",
       "      <td>7.74</td>\n",
       "      <td>1.44</td>\n",
       "      <td>M</td>\n",
       "      <td>Yes</td>\n",
       "      <td>Sat</td>\n",
       "      <td>Night</td>\n",
       "      <td>2</td>\n",
       "    </tr>\n",
       "    <tr>\n",
       "      <th>219</th>\n",
       "      <td>30.14</td>\n",
       "      <td>3.09</td>\n",
       "      <td>F</td>\n",
       "      <td>Yes</td>\n",
       "      <td>Sat</td>\n",
       "      <td>Night</td>\n",
       "      <td>4</td>\n",
       "    </tr>\n",
       "    <tr>\n",
       "      <th>220</th>\n",
       "      <td>12.16</td>\n",
       "      <td>2.20</td>\n",
       "      <td>M</td>\n",
       "      <td>Yes</td>\n",
       "      <td>Fri</td>\n",
       "      <td>Day</td>\n",
       "      <td>2</td>\n",
       "    </tr>\n",
       "    <tr>\n",
       "      <th>221</th>\n",
       "      <td>13.42</td>\n",
       "      <td>3.48</td>\n",
       "      <td>F</td>\n",
       "      <td>Yes</td>\n",
       "      <td>Fri</td>\n",
       "      <td>Day</td>\n",
       "      <td>2</td>\n",
       "    </tr>\n",
       "    <tr>\n",
       "      <th>222</th>\n",
       "      <td>8.58</td>\n",
       "      <td>1.92</td>\n",
       "      <td>M</td>\n",
       "      <td>Yes</td>\n",
       "      <td>Fri</td>\n",
       "      <td>Day</td>\n",
       "      <td>1</td>\n",
       "    </tr>\n",
       "    <tr>\n",
       "      <th>223</th>\n",
       "      <td>15.98</td>\n",
       "      <td>3.00</td>\n",
       "      <td>F</td>\n",
       "      <td>No</td>\n",
       "      <td>Fri</td>\n",
       "      <td>Day</td>\n",
       "      <td>3</td>\n",
       "    </tr>\n",
       "    <tr>\n",
       "      <th>224</th>\n",
       "      <td>13.42</td>\n",
       "      <td>1.58</td>\n",
       "      <td>M</td>\n",
       "      <td>Yes</td>\n",
       "      <td>Fri</td>\n",
       "      <td>Day</td>\n",
       "      <td>2</td>\n",
       "    </tr>\n",
       "    <tr>\n",
       "      <th>225</th>\n",
       "      <td>16.27</td>\n",
       "      <td>2.50</td>\n",
       "      <td>F</td>\n",
       "      <td>Yes</td>\n",
       "      <td>Fri</td>\n",
       "      <td>Day</td>\n",
       "      <td>2</td>\n",
       "    </tr>\n",
       "    <tr>\n",
       "      <th>226</th>\n",
       "      <td>10.09</td>\n",
       "      <td>2.00</td>\n",
       "      <td>F</td>\n",
       "      <td>Yes</td>\n",
       "      <td>Fri</td>\n",
       "      <td>Day</td>\n",
       "      <td>2</td>\n",
       "    </tr>\n",
       "    <tr>\n",
       "      <th>227</th>\n",
       "      <td>20.45</td>\n",
       "      <td>3.00</td>\n",
       "      <td>M</td>\n",
       "      <td>No</td>\n",
       "      <td>Sat</td>\n",
       "      <td>Night</td>\n",
       "      <td>4</td>\n",
       "    </tr>\n",
       "    <tr>\n",
       "      <th>228</th>\n",
       "      <td>13.28</td>\n",
       "      <td>2.72</td>\n",
       "      <td>M</td>\n",
       "      <td>No</td>\n",
       "      <td>Sat</td>\n",
       "      <td>Night</td>\n",
       "      <td>2</td>\n",
       "    </tr>\n",
       "    <tr>\n",
       "      <th>229</th>\n",
       "      <td>22.12</td>\n",
       "      <td>2.88</td>\n",
       "      <td>F</td>\n",
       "      <td>Yes</td>\n",
       "      <td>Sat</td>\n",
       "      <td>Night</td>\n",
       "      <td>2</td>\n",
       "    </tr>\n",
       "    <tr>\n",
       "      <th>230</th>\n",
       "      <td>24.01</td>\n",
       "      <td>2.00</td>\n",
       "      <td>M</td>\n",
       "      <td>Yes</td>\n",
       "      <td>Sat</td>\n",
       "      <td>Night</td>\n",
       "      <td>4</td>\n",
       "    </tr>\n",
       "    <tr>\n",
       "      <th>231</th>\n",
       "      <td>15.69</td>\n",
       "      <td>3.00</td>\n",
       "      <td>M</td>\n",
       "      <td>Yes</td>\n",
       "      <td>Sat</td>\n",
       "      <td>Night</td>\n",
       "      <td>3</td>\n",
       "    </tr>\n",
       "    <tr>\n",
       "      <th>232</th>\n",
       "      <td>11.61</td>\n",
       "      <td>3.39</td>\n",
       "      <td>M</td>\n",
       "      <td>No</td>\n",
       "      <td>Sat</td>\n",
       "      <td>Night</td>\n",
       "      <td>2</td>\n",
       "    </tr>\n",
       "    <tr>\n",
       "      <th>233</th>\n",
       "      <td>10.77</td>\n",
       "      <td>1.47</td>\n",
       "      <td>M</td>\n",
       "      <td>No</td>\n",
       "      <td>Sat</td>\n",
       "      <td>Night</td>\n",
       "      <td>2</td>\n",
       "    </tr>\n",
       "    <tr>\n",
       "      <th>234</th>\n",
       "      <td>15.53</td>\n",
       "      <td>3.00</td>\n",
       "      <td>M</td>\n",
       "      <td>Yes</td>\n",
       "      <td>Sat</td>\n",
       "      <td>Night</td>\n",
       "      <td>2</td>\n",
       "    </tr>\n",
       "    <tr>\n",
       "      <th>235</th>\n",
       "      <td>10.07</td>\n",
       "      <td>1.25</td>\n",
       "      <td>M</td>\n",
       "      <td>No</td>\n",
       "      <td>Sat</td>\n",
       "      <td>Night</td>\n",
       "      <td>2</td>\n",
       "    </tr>\n",
       "    <tr>\n",
       "      <th>236</th>\n",
       "      <td>12.60</td>\n",
       "      <td>1.00</td>\n",
       "      <td>M</td>\n",
       "      <td>Yes</td>\n",
       "      <td>Sat</td>\n",
       "      <td>Night</td>\n",
       "      <td>2</td>\n",
       "    </tr>\n",
       "    <tr>\n",
       "      <th>237</th>\n",
       "      <td>32.83</td>\n",
       "      <td>1.17</td>\n",
       "      <td>M</td>\n",
       "      <td>Yes</td>\n",
       "      <td>Sat</td>\n",
       "      <td>Night</td>\n",
       "      <td>2</td>\n",
       "    </tr>\n",
       "    <tr>\n",
       "      <th>238</th>\n",
       "      <td>35.83</td>\n",
       "      <td>4.67</td>\n",
       "      <td>F</td>\n",
       "      <td>No</td>\n",
       "      <td>Sat</td>\n",
       "      <td>Night</td>\n",
       "      <td>3</td>\n",
       "    </tr>\n",
       "    <tr>\n",
       "      <th>239</th>\n",
       "      <td>29.03</td>\n",
       "      <td>5.92</td>\n",
       "      <td>M</td>\n",
       "      <td>No</td>\n",
       "      <td>Sat</td>\n",
       "      <td>Night</td>\n",
       "      <td>3</td>\n",
       "    </tr>\n",
       "    <tr>\n",
       "      <th>240</th>\n",
       "      <td>27.18</td>\n",
       "      <td>2.00</td>\n",
       "      <td>F</td>\n",
       "      <td>Yes</td>\n",
       "      <td>Sat</td>\n",
       "      <td>Night</td>\n",
       "      <td>2</td>\n",
       "    </tr>\n",
       "    <tr>\n",
       "      <th>241</th>\n",
       "      <td>22.67</td>\n",
       "      <td>2.00</td>\n",
       "      <td>M</td>\n",
       "      <td>Yes</td>\n",
       "      <td>Sat</td>\n",
       "      <td>Night</td>\n",
       "      <td>2</td>\n",
       "    </tr>\n",
       "    <tr>\n",
       "      <th>242</th>\n",
       "      <td>17.82</td>\n",
       "      <td>1.75</td>\n",
       "      <td>M</td>\n",
       "      <td>No</td>\n",
       "      <td>Sat</td>\n",
       "      <td>Night</td>\n",
       "      <td>2</td>\n",
       "    </tr>\n",
       "    <tr>\n",
       "      <th>243</th>\n",
       "      <td>18.78</td>\n",
       "      <td>3.00</td>\n",
       "      <td>F</td>\n",
       "      <td>No</td>\n",
       "      <td>Thu</td>\n",
       "      <td>Night</td>\n",
       "      <td>2</td>\n",
       "    </tr>\n",
       "  </tbody>\n",
       "</table>\n",
       "<p>244 rows × 7 columns</p>\n",
       "</div>"
      ],
      "text/plain": [
       "     totbill   tip sex smoker  day   time  size\n",
       "0      16.99  1.01   F     No  Sun  Night     2\n",
       "1      10.34  1.66   M     No  Sun  Night     3\n",
       "2      21.01  3.50   M     No  Sun  Night     3\n",
       "3      23.68  3.31   M     No  Sun  Night     2\n",
       "4      24.59  3.61   F     No  Sun  Night     4\n",
       "5      25.29  4.71   M     No  Sun  Night     4\n",
       "6       8.77  2.00   M     No  Sun  Night     2\n",
       "7      26.88  3.12   M     No  Sun  Night     4\n",
       "8      15.04  1.96   M     No  Sun  Night     2\n",
       "9      14.78  3.23   M     No  Sun  Night     2\n",
       "10     10.27  1.71   M     No  Sun  Night     2\n",
       "11     35.26  5.00   F     No  Sun  Night     4\n",
       "12     15.42  1.57   M     No  Sun  Night     2\n",
       "13     18.43  3.00   M     No  Sun  Night     4\n",
       "14     14.83  3.02   F     No  Sun  Night     2\n",
       "15     21.58  3.92   M     No  Sun  Night     2\n",
       "16     10.33  1.67   F     No  Sun  Night     3\n",
       "17     16.29  3.71   M     No  Sun  Night     3\n",
       "18     16.97  3.50   F     No  Sun  Night     3\n",
       "19     20.65  3.35   M     No  Sat  Night     3\n",
       "20     17.92  4.08   M     No  Sat  Night     2\n",
       "21     20.29  2.75   F     No  Sat  Night     2\n",
       "22     15.77  2.23   F     No  Sat  Night     2\n",
       "23     39.42  7.58   M     No  Sat  Night     4\n",
       "24     19.82  3.18   M     No  Sat  Night     2\n",
       "25     17.81  2.34   M     No  Sat  Night     4\n",
       "26     13.37  2.00   M     No  Sat  Night     2\n",
       "27     12.69  2.00   M     No  Sat  Night     2\n",
       "28     21.70  4.30   M     No  Sat  Night     2\n",
       "29     19.65  3.00   F     No  Sat  Night     2\n",
       "..       ...   ...  ..    ...  ...    ...   ...\n",
       "214    28.17  6.50   F    Yes  Sat  Night     3\n",
       "215    12.90  1.10   F    Yes  Sat  Night     2\n",
       "216    28.15  3.00   M    Yes  Sat  Night     5\n",
       "217    11.59  1.50   M    Yes  Sat  Night     2\n",
       "218     7.74  1.44   M    Yes  Sat  Night     2\n",
       "219    30.14  3.09   F    Yes  Sat  Night     4\n",
       "220    12.16  2.20   M    Yes  Fri    Day     2\n",
       "221    13.42  3.48   F    Yes  Fri    Day     2\n",
       "222     8.58  1.92   M    Yes  Fri    Day     1\n",
       "223    15.98  3.00   F     No  Fri    Day     3\n",
       "224    13.42  1.58   M    Yes  Fri    Day     2\n",
       "225    16.27  2.50   F    Yes  Fri    Day     2\n",
       "226    10.09  2.00   F    Yes  Fri    Day     2\n",
       "227    20.45  3.00   M     No  Sat  Night     4\n",
       "228    13.28  2.72   M     No  Sat  Night     2\n",
       "229    22.12  2.88   F    Yes  Sat  Night     2\n",
       "230    24.01  2.00   M    Yes  Sat  Night     4\n",
       "231    15.69  3.00   M    Yes  Sat  Night     3\n",
       "232    11.61  3.39   M     No  Sat  Night     2\n",
       "233    10.77  1.47   M     No  Sat  Night     2\n",
       "234    15.53  3.00   M    Yes  Sat  Night     2\n",
       "235    10.07  1.25   M     No  Sat  Night     2\n",
       "236    12.60  1.00   M    Yes  Sat  Night     2\n",
       "237    32.83  1.17   M    Yes  Sat  Night     2\n",
       "238    35.83  4.67   F     No  Sat  Night     3\n",
       "239    29.03  5.92   M     No  Sat  Night     3\n",
       "240    27.18  2.00   F    Yes  Sat  Night     2\n",
       "241    22.67  2.00   M    Yes  Sat  Night     2\n",
       "242    17.82  1.75   M     No  Sat  Night     2\n",
       "243    18.78  3.00   F     No  Thu  Night     2\n",
       "\n",
       "[244 rows x 7 columns]"
      ]
     },
     "execution_count": 37,
     "metadata": {},
     "output_type": "execute_result"
    }
   ],
   "source": [
    "#Let's load in the dataset \n",
    "tips_df = pd.read_csv(\"tips.csv\")\n",
    "#Remove the first column (Pandas already takes care of it!)\n",
    "tips_df.drop('obs',1)"
   ]
  },
  {
   "cell_type": "markdown",
   "metadata": {},
   "source": [
    "Now that we have cleaned up our dataset, let's see if we can explore some trends. The nice thing about Seaborn and Pandas is that they work very well with each other."
   ]
  },
  {
   "cell_type": "code",
   "execution_count": 38,
   "metadata": {
    "collapsed": false
   },
   "outputs": [
    {
     "data": {
      "image/png": "[encoded data removed]",
      "text/plain": [
       "<matplotlib.figure.Figure at 0x7efd431d0fd0>"
      ]
     },
     "metadata": {},
     "output_type": "display_data"
    }
   ],
   "source": [
    "#Assigning variables for ease later.\n",
    "totbill = tips_df['totbill']\n",
    "tip = tips_df['tip']\n",
    "\n",
    "\n",
    "#Use the built-in regplot function to generate a scatter plot w/lin regression.\n",
    "ax_tip = sns.regplot(x=totbill, y=tip, data=tips_df)\n",
    "\n",
    "#Set the title of the Graph.\n",
    "ax_tip.set_title(\"Total-Bill v. Tip amount\")\n",
    "\n",
    "sns.set_context(\"talk\")\n",
    "\n",
    "#Display the result on the graph.\n",
    "plt.show()\n"
   ]
  },
  {
   "cell_type": "markdown",
   "metadata": {
    "collapsed": true
   },
   "source": [
    "Now you try! See if you can plot a dataset relating the tipping behaviors of smokers and non-smokers."
   ]
  },
  {
   "cell_type": "code",
   "execution_count": 39,
   "metadata": {
    "collapsed": false
   },
   "outputs": [
    {
     "data": {
      "text/plain": [
       "<matplotlib.text.Text at 0x7efd430da790>"
      ]
     },
     "execution_count": 39,
     "metadata": {},
     "output_type": "execute_result"
    },
    {
     "data": {
      "image/png": "[encoded data removed]",
      "text/plain": [
       "<matplotlib.figure.Figure at 0x7efd45affc50>"
      ]
     },
     "metadata": {},
     "output_type": "display_data"
    }
   ],
   "source": [
    "\n"
   ]
  },
  {
   "cell_type": "code",
   "execution_count": null,
   "metadata": {
    "collapsed": true
   },
   "outputs": [],
   "source": []
  }
 ],
 "metadata": {
  "anaconda-cloud": {},
  "kernelspec": {
   "display_name": "Python 2",
   "language": "python",
   "name": "python2"
  },
  "language_info": {
   "codemirror_mode": {
    "name": "ipython",
    "version": 2
   },
   "file_extension": ".py",
   "mimetype": "text/x-python",
   "name": "python",
   "nbconvert_exporter": "python",
   "pygments_lexer": "ipython2",
   "version": "2.7.11+"
  }
 },
 "nbformat": 4,
 "nbformat_minor": 0
}
